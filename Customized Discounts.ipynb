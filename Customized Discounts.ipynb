{
 "cells": [
  {
   "cell_type": "markdown",
   "metadata": {},
   "source": [
    "# Importing Dataset"
   ]
  },
  {
   "cell_type": "markdown",
   "metadata": {},
   "source": [
    "First of all, I converted the the given dataset - 'Belgium dataset' csv format through pandas library for further data analysis"
   ]
  },
  {
   "cell_type": "code",
   "execution_count": 50,
   "metadata": {},
   "outputs": [],
   "source": [
    "import pandas as pd\n",
    "import numpy as np\n",
    "import seaborn as sns\n",
    "import matplotlib.pyplot as plt\n",
    "\n",
    "%matplotlib inline\n",
    "\n",
    "import math"
   ]
  },
  {
   "cell_type": "code",
   "execution_count": 51,
   "metadata": {},
   "outputs": [
    {
     "data": {
      "text/html": [
       "<div>\n",
       "<style scoped>\n",
       "    .dataframe tbody tr th:only-of-type {\n",
       "        vertical-align: middle;\n",
       "    }\n",
       "\n",
       "    .dataframe tbody tr th {\n",
       "        vertical-align: top;\n",
       "    }\n",
       "\n",
       "    .dataframe thead th {\n",
       "        text-align: right;\n",
       "    }\n",
       "</style>\n",
       "<table border=\"1\" class=\"dataframe\">\n",
       "  <thead>\n",
       "    <tr style=\"text-align: right;\">\n",
       "      <th></th>\n",
       "      <th>Ship-to ID</th>\n",
       "      <th>Volume_2019_customer_level</th>\n",
       "      <th>Volume_2018_customer_level</th>\n",
       "      <th>sfdc_tier</th>\n",
       "      <th>poc_image</th>\n",
       "      <th>segment</th>\n",
       "      <th>sub_segment</th>\n",
       "      <th>Product_Set</th>\n",
       "      <th>Brand</th>\n",
       "      <th>Sub-Brand</th>\n",
       "      <th>Pack_Type</th>\n",
       "      <th>Returnalility</th>\n",
       "      <th>GTO_2019</th>\n",
       "      <th>OnInvoice Discount(LCU)</th>\n",
       "      <th>OffInvoice Discount(LCU)</th>\n",
       "      <th>Volume_2019</th>\n",
       "      <th>Tax</th>\n",
       "      <th>province</th>\n",
       "      <th>Discount_Total</th>\n",
       "    </tr>\n",
       "  </thead>\n",
       "  <tbody>\n",
       "    <tr>\n",
       "      <th>0</th>\n",
       "      <td>29000332</td>\n",
       "      <td>0.48</td>\n",
       "      <td>0.557</td>\n",
       "      <td>Tier 0</td>\n",
       "      <td>Mainstream</td>\n",
       "      <td>Entertainment Led</td>\n",
       "      <td>Events</td>\n",
       "      <td>RETURNABLE_BOTTLE_JUPILER_JUPILER PILS</td>\n",
       "      <td>JUPILER</td>\n",
       "      <td>JUPILER PILS</td>\n",
       "      <td>BOTTLE</td>\n",
       "      <td>RETURNABLE</td>\n",
       "      <td>141.20</td>\n",
       "      <td>0.00</td>\n",
       "      <td>0.0</td>\n",
       "      <td>0.48</td>\n",
       "      <td>12.23</td>\n",
       "      <td>Brussels Capital Region</td>\n",
       "      <td>0.00</td>\n",
       "    </tr>\n",
       "    <tr>\n",
       "      <th>1</th>\n",
       "      <td>29000441</td>\n",
       "      <td>0.45</td>\n",
       "      <td>0.540</td>\n",
       "      <td>Tier 1</td>\n",
       "      <td>Mainstream</td>\n",
       "      <td>Not applicable</td>\n",
       "      <td>Not applicable</td>\n",
       "      <td>RETURNABLE_BOTTLE_PIEDBOEUF_PIEDBOEUF TRIPLE</td>\n",
       "      <td>PIEDBOEUF</td>\n",
       "      <td>PIEDBOEUF TRIPLE</td>\n",
       "      <td>BOTTLE</td>\n",
       "      <td>RETURNABLE</td>\n",
       "      <td>113.65</td>\n",
       "      <td>0.00</td>\n",
       "      <td>0.0</td>\n",
       "      <td>0.45</td>\n",
       "      <td>7.85</td>\n",
       "      <td>Liège</td>\n",
       "      <td>0.00</td>\n",
       "    </tr>\n",
       "    <tr>\n",
       "      <th>2</th>\n",
       "      <td>29000452</td>\n",
       "      <td>270.97</td>\n",
       "      <td>225.720</td>\n",
       "      <td>Tier 1</td>\n",
       "      <td>Mainstream</td>\n",
       "      <td>Drink Led</td>\n",
       "      <td>Party Place</td>\n",
       "      <td>OW_BULK_JUPILER_JUPILER PILS</td>\n",
       "      <td>JUPILER</td>\n",
       "      <td>JUPILER PILS</td>\n",
       "      <td>BULK</td>\n",
       "      <td>OW</td>\n",
       "      <td>61551.06</td>\n",
       "      <td>14511.46</td>\n",
       "      <td>0.0</td>\n",
       "      <td>238.57</td>\n",
       "      <td>3577.69</td>\n",
       "      <td>Antwerp</td>\n",
       "      <td>14511.46</td>\n",
       "    </tr>\n",
       "    <tr>\n",
       "      <th>3</th>\n",
       "      <td>29000452</td>\n",
       "      <td>270.97</td>\n",
       "      <td>225.720</td>\n",
       "      <td>Tier 1</td>\n",
       "      <td>Mainstream</td>\n",
       "      <td>Drink Led</td>\n",
       "      <td>Party Place</td>\n",
       "      <td>RETURNABLE_BOTTLE_JUPILER_JUPILER PILS</td>\n",
       "      <td>JUPILER</td>\n",
       "      <td>JUPILER PILS</td>\n",
       "      <td>BOTTLE</td>\n",
       "      <td>RETURNABLE</td>\n",
       "      <td>6001.00</td>\n",
       "      <td>1425.19</td>\n",
       "      <td>180.0</td>\n",
       "      <td>20.40</td>\n",
       "      <td>519.41</td>\n",
       "      <td>Antwerp</td>\n",
       "      <td>1605.19</td>\n",
       "    </tr>\n",
       "    <tr>\n",
       "      <th>4</th>\n",
       "      <td>29000452</td>\n",
       "      <td>270.97</td>\n",
       "      <td>225.720</td>\n",
       "      <td>Tier 1</td>\n",
       "      <td>Mainstream</td>\n",
       "      <td>Drink Led</td>\n",
       "      <td>Party Place</td>\n",
       "      <td>RETURNABLE_KEG_JUPILER_JUPILER PILS</td>\n",
       "      <td>JUPILER</td>\n",
       "      <td>JUPILER PILS</td>\n",
       "      <td>KEG</td>\n",
       "      <td>RETURNABLE</td>\n",
       "      <td>3051.36</td>\n",
       "      <td>718.32</td>\n",
       "      <td>0.0</td>\n",
       "      <td>12.00</td>\n",
       "      <td>288.63</td>\n",
       "      <td>Antwerp</td>\n",
       "      <td>718.32</td>\n",
       "    </tr>\n",
       "  </tbody>\n",
       "</table>\n",
       "</div>"
      ],
      "text/plain": [
       "   Ship-to ID  Volume_2019_customer_level  Volume_2018_customer_level  \\\n",
       "0    29000332                        0.48                       0.557   \n",
       "1    29000441                        0.45                       0.540   \n",
       "2    29000452                      270.97                     225.720   \n",
       "3    29000452                      270.97                     225.720   \n",
       "4    29000452                      270.97                     225.720   \n",
       "\n",
       "  sfdc_tier   poc_image            segment     sub_segment  \\\n",
       "0    Tier 0  Mainstream  Entertainment Led          Events   \n",
       "1    Tier 1  Mainstream     Not applicable  Not applicable   \n",
       "2    Tier 1  Mainstream          Drink Led     Party Place   \n",
       "3    Tier 1  Mainstream          Drink Led     Party Place   \n",
       "4    Tier 1  Mainstream          Drink Led     Party Place   \n",
       "\n",
       "                                    Product_Set      Brand         Sub-Brand  \\\n",
       "0        RETURNABLE_BOTTLE_JUPILER_JUPILER PILS    JUPILER      JUPILER PILS   \n",
       "1  RETURNABLE_BOTTLE_PIEDBOEUF_PIEDBOEUF TRIPLE  PIEDBOEUF  PIEDBOEUF TRIPLE   \n",
       "2                  OW_BULK_JUPILER_JUPILER PILS    JUPILER      JUPILER PILS   \n",
       "3        RETURNABLE_BOTTLE_JUPILER_JUPILER PILS    JUPILER      JUPILER PILS   \n",
       "4           RETURNABLE_KEG_JUPILER_JUPILER PILS    JUPILER      JUPILER PILS   \n",
       "\n",
       "  Pack_Type Returnalility  GTO_2019  OnInvoice Discount(LCU)  \\\n",
       "0    BOTTLE    RETURNABLE    141.20                     0.00   \n",
       "1    BOTTLE    RETURNABLE    113.65                     0.00   \n",
       "2      BULK            OW  61551.06                 14511.46   \n",
       "3    BOTTLE    RETURNABLE   6001.00                  1425.19   \n",
       "4       KEG    RETURNABLE   3051.36                   718.32   \n",
       "\n",
       "   OffInvoice Discount(LCU)  Volume_2019      Tax                 province  \\\n",
       "0                       0.0         0.48    12.23  Brussels Capital Region   \n",
       "1                       0.0         0.45     7.85                    Liège   \n",
       "2                       0.0       238.57  3577.69                  Antwerp   \n",
       "3                     180.0        20.40   519.41                  Antwerp   \n",
       "4                       0.0        12.00   288.63                  Antwerp   \n",
       "\n",
       "   Discount_Total  \n",
       "0            0.00  \n",
       "1            0.00  \n",
       "2        14511.46  \n",
       "3         1605.19  \n",
       "4          718.32  "
      ]
     },
     "execution_count": 51,
     "metadata": {},
     "output_type": "execute_result"
    }
   ],
   "source": [
    "data = pd.read_csv(\"Belgium_Dataset.csv\",encoding='latin-1')\n",
    "data.head()  #first five observations of the data set"
   ]
  },
  {
   "cell_type": "code",
   "execution_count": 52,
   "metadata": {},
   "outputs": [
    {
     "data": {
      "text/html": [
       "<div>\n",
       "<style scoped>\n",
       "    .dataframe tbody tr th:only-of-type {\n",
       "        vertical-align: middle;\n",
       "    }\n",
       "\n",
       "    .dataframe tbody tr th {\n",
       "        vertical-align: top;\n",
       "    }\n",
       "\n",
       "    .dataframe thead th {\n",
       "        text-align: right;\n",
       "    }\n",
       "</style>\n",
       "<table border=\"1\" class=\"dataframe\">\n",
       "  <thead>\n",
       "    <tr style=\"text-align: right;\">\n",
       "      <th></th>\n",
       "      <th>Volume_2019_customer_level</th>\n",
       "      <th>Volume_2018_customer_level</th>\n",
       "      <th>sfdc_tier</th>\n",
       "      <th>poc_image</th>\n",
       "      <th>segment</th>\n",
       "      <th>sub_segment</th>\n",
       "      <th>Product_Set</th>\n",
       "      <th>Brand</th>\n",
       "      <th>Sub-Brand</th>\n",
       "      <th>Pack_Type</th>\n",
       "      <th>Returnalility</th>\n",
       "      <th>GTO_2019</th>\n",
       "      <th>OnInvoice Discount(LCU)</th>\n",
       "      <th>OffInvoice Discount(LCU)</th>\n",
       "      <th>Volume_2019</th>\n",
       "      <th>Tax</th>\n",
       "      <th>province</th>\n",
       "      <th>Discount_Total</th>\n",
       "    </tr>\n",
       "  </thead>\n",
       "  <tbody>\n",
       "    <tr>\n",
       "      <th>0</th>\n",
       "      <td>0.48</td>\n",
       "      <td>0.557</td>\n",
       "      <td>Tier 0</td>\n",
       "      <td>Mainstream</td>\n",
       "      <td>Entertainment Led</td>\n",
       "      <td>Events</td>\n",
       "      <td>RETURNABLE_BOTTLE_JUPILER_JUPILER PILS</td>\n",
       "      <td>JUPILER</td>\n",
       "      <td>JUPILER PILS</td>\n",
       "      <td>BOTTLE</td>\n",
       "      <td>RETURNABLE</td>\n",
       "      <td>141.20</td>\n",
       "      <td>0.00</td>\n",
       "      <td>0.0</td>\n",
       "      <td>0.48</td>\n",
       "      <td>12.23</td>\n",
       "      <td>Brussels Capital Region</td>\n",
       "      <td>0.00</td>\n",
       "    </tr>\n",
       "    <tr>\n",
       "      <th>1</th>\n",
       "      <td>0.45</td>\n",
       "      <td>0.540</td>\n",
       "      <td>Tier 1</td>\n",
       "      <td>Mainstream</td>\n",
       "      <td>Not applicable</td>\n",
       "      <td>Not applicable</td>\n",
       "      <td>RETURNABLE_BOTTLE_PIEDBOEUF_PIEDBOEUF TRIPLE</td>\n",
       "      <td>PIEDBOEUF</td>\n",
       "      <td>PIEDBOEUF TRIPLE</td>\n",
       "      <td>BOTTLE</td>\n",
       "      <td>RETURNABLE</td>\n",
       "      <td>113.65</td>\n",
       "      <td>0.00</td>\n",
       "      <td>0.0</td>\n",
       "      <td>0.45</td>\n",
       "      <td>7.85</td>\n",
       "      <td>Liège</td>\n",
       "      <td>0.00</td>\n",
       "    </tr>\n",
       "    <tr>\n",
       "      <th>2</th>\n",
       "      <td>270.97</td>\n",
       "      <td>225.720</td>\n",
       "      <td>Tier 1</td>\n",
       "      <td>Mainstream</td>\n",
       "      <td>Drink Led</td>\n",
       "      <td>Party Place</td>\n",
       "      <td>OW_BULK_JUPILER_JUPILER PILS</td>\n",
       "      <td>JUPILER</td>\n",
       "      <td>JUPILER PILS</td>\n",
       "      <td>BULK</td>\n",
       "      <td>OW</td>\n",
       "      <td>61551.06</td>\n",
       "      <td>14511.46</td>\n",
       "      <td>0.0</td>\n",
       "      <td>238.57</td>\n",
       "      <td>3577.69</td>\n",
       "      <td>Antwerp</td>\n",
       "      <td>14511.46</td>\n",
       "    </tr>\n",
       "    <tr>\n",
       "      <th>3</th>\n",
       "      <td>270.97</td>\n",
       "      <td>225.720</td>\n",
       "      <td>Tier 1</td>\n",
       "      <td>Mainstream</td>\n",
       "      <td>Drink Led</td>\n",
       "      <td>Party Place</td>\n",
       "      <td>RETURNABLE_BOTTLE_JUPILER_JUPILER PILS</td>\n",
       "      <td>JUPILER</td>\n",
       "      <td>JUPILER PILS</td>\n",
       "      <td>BOTTLE</td>\n",
       "      <td>RETURNABLE</td>\n",
       "      <td>6001.00</td>\n",
       "      <td>1425.19</td>\n",
       "      <td>180.0</td>\n",
       "      <td>20.40</td>\n",
       "      <td>519.41</td>\n",
       "      <td>Antwerp</td>\n",
       "      <td>1605.19</td>\n",
       "    </tr>\n",
       "    <tr>\n",
       "      <th>4</th>\n",
       "      <td>270.97</td>\n",
       "      <td>225.720</td>\n",
       "      <td>Tier 1</td>\n",
       "      <td>Mainstream</td>\n",
       "      <td>Drink Led</td>\n",
       "      <td>Party Place</td>\n",
       "      <td>RETURNABLE_KEG_JUPILER_JUPILER PILS</td>\n",
       "      <td>JUPILER</td>\n",
       "      <td>JUPILER PILS</td>\n",
       "      <td>KEG</td>\n",
       "      <td>RETURNABLE</td>\n",
       "      <td>3051.36</td>\n",
       "      <td>718.32</td>\n",
       "      <td>0.0</td>\n",
       "      <td>12.00</td>\n",
       "      <td>288.63</td>\n",
       "      <td>Antwerp</td>\n",
       "      <td>718.32</td>\n",
       "    </tr>\n",
       "  </tbody>\n",
       "</table>\n",
       "</div>"
      ],
      "text/plain": [
       "   Volume_2019_customer_level  Volume_2018_customer_level sfdc_tier  \\\n",
       "0                        0.48                       0.557    Tier 0   \n",
       "1                        0.45                       0.540    Tier 1   \n",
       "2                      270.97                     225.720    Tier 1   \n",
       "3                      270.97                     225.720    Tier 1   \n",
       "4                      270.97                     225.720    Tier 1   \n",
       "\n",
       "    poc_image            segment     sub_segment  \\\n",
       "0  Mainstream  Entertainment Led          Events   \n",
       "1  Mainstream     Not applicable  Not applicable   \n",
       "2  Mainstream          Drink Led     Party Place   \n",
       "3  Mainstream          Drink Led     Party Place   \n",
       "4  Mainstream          Drink Led     Party Place   \n",
       "\n",
       "                                    Product_Set      Brand         Sub-Brand  \\\n",
       "0        RETURNABLE_BOTTLE_JUPILER_JUPILER PILS    JUPILER      JUPILER PILS   \n",
       "1  RETURNABLE_BOTTLE_PIEDBOEUF_PIEDBOEUF TRIPLE  PIEDBOEUF  PIEDBOEUF TRIPLE   \n",
       "2                  OW_BULK_JUPILER_JUPILER PILS    JUPILER      JUPILER PILS   \n",
       "3        RETURNABLE_BOTTLE_JUPILER_JUPILER PILS    JUPILER      JUPILER PILS   \n",
       "4           RETURNABLE_KEG_JUPILER_JUPILER PILS    JUPILER      JUPILER PILS   \n",
       "\n",
       "  Pack_Type Returnalility  GTO_2019  OnInvoice Discount(LCU)  \\\n",
       "0    BOTTLE    RETURNABLE    141.20                     0.00   \n",
       "1    BOTTLE    RETURNABLE    113.65                     0.00   \n",
       "2      BULK            OW  61551.06                 14511.46   \n",
       "3    BOTTLE    RETURNABLE   6001.00                  1425.19   \n",
       "4       KEG    RETURNABLE   3051.36                   718.32   \n",
       "\n",
       "   OffInvoice Discount(LCU)  Volume_2019      Tax                 province  \\\n",
       "0                       0.0         0.48    12.23  Brussels Capital Region   \n",
       "1                       0.0         0.45     7.85                    Liège   \n",
       "2                       0.0       238.57  3577.69                  Antwerp   \n",
       "3                     180.0        20.40   519.41                  Antwerp   \n",
       "4                       0.0        12.00   288.63                  Antwerp   \n",
       "\n",
       "   Discount_Total  \n",
       "0            0.00  \n",
       "1            0.00  \n",
       "2        14511.46  \n",
       "3         1605.19  \n",
       "4          718.32  "
      ]
     },
     "execution_count": 52,
     "metadata": {},
     "output_type": "execute_result"
    }
   ],
   "source": [
    "data.drop(columns=\"Ship-to ID\" , inplace = True)\n",
    "data.head()"
   ]
  },
  {
   "cell_type": "code",
   "execution_count": 53,
   "metadata": {},
   "outputs": [
    {
     "name": "stdout",
     "output_type": "stream",
     "text": [
      "Total Rows = 39859\n",
      "Total Columns = 18\n"
     ]
    }
   ],
   "source": [
    "print(\"Total Rows = \" + str(data.shape[0]) + \"\\nTotal Columns = \" + str(data.shape[1])) "
   ]
  },
  {
   "cell_type": "markdown",
   "metadata": {},
   "source": [
    "Clearly, Dataset comprises of 39859 observations and 19 characteristics.\n",
    "\n",
    "Out of which one (Total_Discount) is dependent variable and rest 18 are independent variables"
   ]
  },
  {
   "cell_type": "markdown",
   "metadata": {},
   "source": [
    "# Exploratory Data Analysis"
   ]
  },
  {
   "cell_type": "code",
   "execution_count": 54,
   "metadata": {},
   "outputs": [
    {
     "name": "stdout",
     "output_type": "stream",
     "text": [
      "<class 'pandas.core.frame.DataFrame'>\n",
      "RangeIndex: 39859 entries, 0 to 39858\n",
      "Data columns (total 18 columns):\n",
      " #   Column                      Non-Null Count  Dtype  \n",
      "---  ------                      --------------  -----  \n",
      " 0   Volume_2019_customer_level  39859 non-null  float64\n",
      " 1   Volume_2018_customer_level  39859 non-null  float64\n",
      " 2   sfdc_tier                   39859 non-null  object \n",
      " 3   poc_image                   39859 non-null  object \n",
      " 4   segment                     39859 non-null  object \n",
      " 5   sub_segment                 39859 non-null  object \n",
      " 6   Product_Set                 39859 non-null  object \n",
      " 7   Brand                       39859 non-null  object \n",
      " 8   Sub-Brand                   39859 non-null  object \n",
      " 9   Pack_Type                   39859 non-null  object \n",
      " 10  Returnalility               39859 non-null  object \n",
      " 11  GTO_2019                    39859 non-null  float64\n",
      " 12  OnInvoice Discount(LCU)     39859 non-null  float64\n",
      " 13  OffInvoice Discount(LCU)    39859 non-null  float64\n",
      " 14  Volume_2019                 39859 non-null  float64\n",
      " 15  Tax                         39859 non-null  float64\n",
      " 16  province                    39859 non-null  object \n",
      " 17  Discount_Total              39859 non-null  float64\n",
      "dtypes: float64(8), object(10)\n",
      "memory usage: 5.5+ MB\n"
     ]
    }
   ],
   "source": [
    "data.info() #columns and corresponding data types, finding whether they contain null values or not"
   ]
  },
  {
   "cell_type": "markdown",
   "metadata": {},
   "source": [
    "No variable column has null/missing values."
   ]
  },
  {
   "cell_type": "code",
   "execution_count": 55,
   "metadata": {},
   "outputs": [
    {
     "data": {
      "text/html": [
       "<div>\n",
       "<style scoped>\n",
       "    .dataframe tbody tr th:only-of-type {\n",
       "        vertical-align: middle;\n",
       "    }\n",
       "\n",
       "    .dataframe tbody tr th {\n",
       "        vertical-align: top;\n",
       "    }\n",
       "\n",
       "    .dataframe thead th {\n",
       "        text-align: right;\n",
       "    }\n",
       "</style>\n",
       "<table border=\"1\" class=\"dataframe\">\n",
       "  <thead>\n",
       "    <tr style=\"text-align: right;\">\n",
       "      <th></th>\n",
       "      <th>Volume_2019_customer_level</th>\n",
       "      <th>Volume_2018_customer_level</th>\n",
       "      <th>GTO_2019</th>\n",
       "      <th>OnInvoice Discount(LCU)</th>\n",
       "      <th>OffInvoice Discount(LCU)</th>\n",
       "      <th>Volume_2019</th>\n",
       "      <th>Tax</th>\n",
       "      <th>Discount_Total</th>\n",
       "    </tr>\n",
       "  </thead>\n",
       "  <tbody>\n",
       "    <tr>\n",
       "      <th>count</th>\n",
       "      <td>39859.000000</td>\n",
       "      <td>39859.000000</td>\n",
       "      <td>3.985900e+04</td>\n",
       "      <td>39859.000000</td>\n",
       "      <td>3.985900e+04</td>\n",
       "      <td>39859.000000</td>\n",
       "      <td>39859.000000</td>\n",
       "      <td>3.985900e+04</td>\n",
       "    </tr>\n",
       "    <tr>\n",
       "      <th>mean</th>\n",
       "      <td>125.514751</td>\n",
       "      <td>124.553338</td>\n",
       "      <td>2.329499e+03</td>\n",
       "      <td>296.258596</td>\n",
       "      <td>3.227985e+02</td>\n",
       "      <td>8.466336</td>\n",
       "      <td>196.776225</td>\n",
       "      <td>6.190571e+02</td>\n",
       "    </tr>\n",
       "    <tr>\n",
       "      <th>std</th>\n",
       "      <td>417.311600</td>\n",
       "      <td>434.081066</td>\n",
       "      <td>2.183562e+04</td>\n",
       "      <td>2215.120009</td>\n",
       "      <td>1.005300e+04</td>\n",
       "      <td>88.055689</td>\n",
       "      <td>1523.500791</td>\n",
       "      <td>1.050909e+04</td>\n",
       "    </tr>\n",
       "    <tr>\n",
       "      <th>min</th>\n",
       "      <td>-6.000000</td>\n",
       "      <td>-21.100000</td>\n",
       "      <td>-1.625964e+04</td>\n",
       "      <td>-1721.640000</td>\n",
       "      <td>-2.097762e+04</td>\n",
       "      <td>-18.600000</td>\n",
       "      <td>-442.540000</td>\n",
       "      <td>-2.087009e+04</td>\n",
       "    </tr>\n",
       "    <tr>\n",
       "      <th>25%</th>\n",
       "      <td>23.635000</td>\n",
       "      <td>24.200000</td>\n",
       "      <td>7.712000e+01</td>\n",
       "      <td>0.000000</td>\n",
       "      <td>0.000000e+00</td>\n",
       "      <td>0.237000</td>\n",
       "      <td>4.505000</td>\n",
       "      <td>6.540000e+00</td>\n",
       "    </tr>\n",
       "    <tr>\n",
       "      <th>50%</th>\n",
       "      <td>60.583000</td>\n",
       "      <td>59.332000</td>\n",
       "      <td>2.234700e+02</td>\n",
       "      <td>18.000000</td>\n",
       "      <td>0.000000e+00</td>\n",
       "      <td>0.600000</td>\n",
       "      <td>14.100000</td>\n",
       "      <td>3.370000e+01</td>\n",
       "    </tr>\n",
       "    <tr>\n",
       "      <th>75%</th>\n",
       "      <td>117.508000</td>\n",
       "      <td>117.687000</td>\n",
       "      <td>7.992400e+02</td>\n",
       "      <td>87.080000</td>\n",
       "      <td>1.643000e+01</td>\n",
       "      <td>2.340000</td>\n",
       "      <td>60.845000</td>\n",
       "      <td>1.422400e+02</td>\n",
       "    </tr>\n",
       "    <tr>\n",
       "      <th>max</th>\n",
       "      <td>14773.000000</td>\n",
       "      <td>11636.000000</td>\n",
       "      <td>2.727988e+06</td>\n",
       "      <td>214981.440000</td>\n",
       "      <td>1.260856e+06</td>\n",
       "      <td>11662.500000</td>\n",
       "      <td>153880.570000</td>\n",
       "      <td>1.260856e+06</td>\n",
       "    </tr>\n",
       "  </tbody>\n",
       "</table>\n",
       "</div>"
      ],
      "text/plain": [
       "       Volume_2019_customer_level  Volume_2018_customer_level      GTO_2019  \\\n",
       "count                39859.000000                39859.000000  3.985900e+04   \n",
       "mean                   125.514751                  124.553338  2.329499e+03   \n",
       "std                    417.311600                  434.081066  2.183562e+04   \n",
       "min                     -6.000000                  -21.100000 -1.625964e+04   \n",
       "25%                     23.635000                   24.200000  7.712000e+01   \n",
       "50%                     60.583000                   59.332000  2.234700e+02   \n",
       "75%                    117.508000                  117.687000  7.992400e+02   \n",
       "max                  14773.000000                11636.000000  2.727988e+06   \n",
       "\n",
       "       OnInvoice Discount(LCU)  OffInvoice Discount(LCU)   Volume_2019  \\\n",
       "count             39859.000000              3.985900e+04  39859.000000   \n",
       "mean                296.258596              3.227985e+02      8.466336   \n",
       "std                2215.120009              1.005300e+04     88.055689   \n",
       "min               -1721.640000             -2.097762e+04    -18.600000   \n",
       "25%                   0.000000              0.000000e+00      0.237000   \n",
       "50%                  18.000000              0.000000e+00      0.600000   \n",
       "75%                  87.080000              1.643000e+01      2.340000   \n",
       "max              214981.440000              1.260856e+06  11662.500000   \n",
       "\n",
       "                 Tax  Discount_Total  \n",
       "count   39859.000000    3.985900e+04  \n",
       "mean      196.776225    6.190571e+02  \n",
       "std      1523.500791    1.050909e+04  \n",
       "min      -442.540000   -2.087009e+04  \n",
       "25%         4.505000    6.540000e+00  \n",
       "50%        14.100000    3.370000e+01  \n",
       "75%        60.845000    1.422400e+02  \n",
       "max    153880.570000    1.260856e+06  "
      ]
     },
     "execution_count": 55,
     "metadata": {},
     "output_type": "execute_result"
    }
   ],
   "source": [
    "data.describe()"
   ]
  },
  {
   "cell_type": "markdown",
   "metadata": {},
   "source": [
    "Clearly, the dependent variable (Discount_total) is continous in nature"
   ]
  },
  {
   "cell_type": "code",
   "execution_count": 56,
   "metadata": {
    "scrolled": false
   },
   "outputs": [
    {
     "data": {
      "text/plain": [
       "array(['Mainstream', 'Premium', '0'], dtype=object)"
      ]
     },
     "execution_count": 56,
     "metadata": {},
     "output_type": "execute_result"
    }
   ],
   "source": [
    "data.poc_image.unique()"
   ]
  },
  {
   "cell_type": "code",
   "execution_count": 57,
   "metadata": {},
   "outputs": [
    {
     "data": {
      "text/plain": [
       "<AxesSubplot:xlabel='poc_image', ylabel='count'>"
      ]
     },
     "execution_count": 57,
     "metadata": {},
     "output_type": "execute_result"
    },
    {
     "data": {
      "image/png": "[encoded data removed]",
      "text/plain": [
       "<Figure size 432x288 with 1 Axes>"
      ]
     },
     "metadata": {
      "needs_background": "light"
     },
     "output_type": "display_data"
    }
   ],
   "source": [
    "sns.countplot(x=\"poc_image\", data= data)"
   ]
  },
  {
   "cell_type": "code",
   "execution_count": 58,
   "metadata": {
    "scrolled": true
   },
   "outputs": [
    {
     "data": {
      "text/plain": [
       "80"
      ]
     },
     "execution_count": 58,
     "metadata": {},
     "output_type": "execute_result"
    }
   ],
   "source": [
    "(data.poc_image=='0').sum() "
   ]
  },
  {
   "cell_type": "code",
   "execution_count": 72,
   "metadata": {},
   "outputs": [
    {
     "data": {
      "text/plain": [
       "(39779, 18)"
      ]
     },
     "execution_count": 72,
     "metadata": {},
     "output_type": "execute_result"
    }
   ],
   "source": [
    "#We need to drop the 80 entries with 0 poc_image\n",
    "\n",
    "data = data.loc[data[\"poc_image\"] != '0']\n",
    "data.shape"
   ]
  },
  {
   "cell_type": "code",
   "execution_count": 61,
   "metadata": {
    "scrolled": true
   },
   "outputs": [
    {
     "data": {
      "text/html": [
       "<div>\n",
       "<style scoped>\n",
       "    .dataframe tbody tr th:only-of-type {\n",
       "        vertical-align: middle;\n",
       "    }\n",
       "\n",
       "    .dataframe tbody tr th {\n",
       "        vertical-align: top;\n",
       "    }\n",
       "\n",
       "    .dataframe thead th {\n",
       "        text-align: right;\n",
       "    }\n",
       "</style>\n",
       "<table border=\"1\" class=\"dataframe\">\n",
       "  <thead>\n",
       "    <tr style=\"text-align: right;\">\n",
       "      <th></th>\n",
       "      <th>Premium</th>\n",
       "    </tr>\n",
       "  </thead>\n",
       "  <tbody>\n",
       "    <tr>\n",
       "      <th>0</th>\n",
       "      <td>0</td>\n",
       "    </tr>\n",
       "    <tr>\n",
       "      <th>1</th>\n",
       "      <td>0</td>\n",
       "    </tr>\n",
       "    <tr>\n",
       "      <th>2</th>\n",
       "      <td>0</td>\n",
       "    </tr>\n",
       "    <tr>\n",
       "      <th>3</th>\n",
       "      <td>0</td>\n",
       "    </tr>\n",
       "    <tr>\n",
       "      <th>4</th>\n",
       "      <td>0</td>\n",
       "    </tr>\n",
       "  </tbody>\n",
       "</table>\n",
       "</div>"
      ],
      "text/plain": [
       "   Premium\n",
       "0        0\n",
       "1        0\n",
       "2        0\n",
       "3        0\n",
       "4        0"
      ]
     },
     "execution_count": 61,
     "metadata": {},
     "output_type": "execute_result"
    }
   ],
   "source": [
    "#We can substitute poc_image with numerical values for easier analysis.\n",
    "\n",
    "Poc_image = pd.get_dummies(data['poc_image'], drop_first = True)\n",
    "Poc_image.head(5)"
   ]
  },
  {
   "cell_type": "markdown",
   "metadata": {},
   "source": [
    "Here, for sfdc_tier = 0 corresponds to 'Mainstream'and sfdc_tier = 1 corresponds to 'Premium'"
   ]
  },
  {
   "cell_type": "code",
   "execution_count": 73,
   "metadata": {},
   "outputs": [
    {
     "data": {
      "text/plain": [
       "array(['Tier 0', 'Tier 1', 'Tier 2'], dtype=object)"
      ]
     },
     "execution_count": 73,
     "metadata": {},
     "output_type": "execute_result"
    }
   ],
   "source": [
    "data.sfdc_tier.unique()"
   ]
  },
  {
   "cell_type": "code",
   "execution_count": 75,
   "metadata": {},
   "outputs": [
    {
     "data": {
      "text/html": [
       "<div>\n",
       "<style scoped>\n",
       "    .dataframe tbody tr th:only-of-type {\n",
       "        vertical-align: middle;\n",
       "    }\n",
       "\n",
       "    .dataframe tbody tr th {\n",
       "        vertical-align: top;\n",
       "    }\n",
       "\n",
       "    .dataframe thead th {\n",
       "        text-align: right;\n",
       "    }\n",
       "</style>\n",
       "<table border=\"1\" class=\"dataframe\">\n",
       "  <thead>\n",
       "    <tr style=\"text-align: right;\">\n",
       "      <th></th>\n",
       "      <th>Tier 1</th>\n",
       "      <th>Tier 2</th>\n",
       "    </tr>\n",
       "  </thead>\n",
       "  <tbody>\n",
       "    <tr>\n",
       "      <th>0</th>\n",
       "      <td>0</td>\n",
       "      <td>0</td>\n",
       "    </tr>\n",
       "    <tr>\n",
       "      <th>1</th>\n",
       "      <td>1</td>\n",
       "      <td>0</td>\n",
       "    </tr>\n",
       "    <tr>\n",
       "      <th>2</th>\n",
       "      <td>1</td>\n",
       "      <td>0</td>\n",
       "    </tr>\n",
       "    <tr>\n",
       "      <th>3</th>\n",
       "      <td>1</td>\n",
       "      <td>0</td>\n",
       "    </tr>\n",
       "    <tr>\n",
       "      <th>4</th>\n",
       "      <td>1</td>\n",
       "      <td>0</td>\n",
       "    </tr>\n",
       "  </tbody>\n",
       "</table>\n",
       "</div>"
      ],
      "text/plain": [
       "   Tier 1  Tier 2\n",
       "0       0       0\n",
       "1       1       0\n",
       "2       1       0\n",
       "3       1       0\n",
       "4       1       0"
      ]
     },
     "execution_count": 75,
     "metadata": {},
     "output_type": "execute_result"
    }
   ],
   "source": [
    "sfdc_tier = pd.get_dummies(data['sfdc_tier'], drop_first = True)\n",
    "sfdc_tier.head(5)"
   ]
  },
  {
   "cell_type": "markdown",
   "metadata": {},
   "source": [
    "Clearly, Tier 1=0 and Tier 2=0 corresponds to Tier 3"
   ]
  },
  {
   "cell_type": "code",
   "execution_count": 63,
   "metadata": {},
   "outputs": [
    {
     "data": {
      "text/plain": [
       "array(['Entertainment Led', 'Not applicable', 'Drink Led',\n",
       "       'Institutional', 'Food Led', 'Wholesaler'], dtype=object)"
      ]
     },
     "execution_count": 63,
     "metadata": {},
     "output_type": "execute_result"
    }
   ],
   "source": [
    "data.segment.unique()"
   ]
  },
  {
   "cell_type": "code",
   "execution_count": 64,
   "metadata": {},
   "outputs": [
    {
     "data": {
      "text/plain": [
       "array(['Events', 'Not applicable', 'Party Place', 'Institutional', 'Bar',\n",
       "       'Restaurant', 'Sports Venue', 'Recreational', 'Beer bar', 'Hybrid',\n",
       "       'Quick Dining', 'Music Venue', 'Cocktail Bar', 'Wholesaler',\n",
       "       'Local Bar', 'Sub Agent'], dtype=object)"
      ]
     },
     "execution_count": 64,
     "metadata": {},
     "output_type": "execute_result"
    }
   ],
   "source": [
    "data.sub_segment.unique()"
   ]
  },
  {
   "cell_type": "code",
   "execution_count": 65,
   "metadata": {},
   "outputs": [
    {
     "data": {
      "text/plain": [
       "(143,)"
      ]
     },
     "execution_count": 65,
     "metadata": {},
     "output_type": "execute_result"
    }
   ],
   "source": [
    "data.Product_Set.unique().shape"
   ]
  },
  {
   "cell_type": "code",
   "execution_count": 76,
   "metadata": {},
   "outputs": [
    {
     "data": {
      "text/plain": [
       "array(['JUPILER', 'PIEDBOEUF', 'DIEKIRCH', 'BELLE VUE', 'HOEGAARDEN',\n",
       "       'LEFFE', 'TRIPEL KARMELIET', 'GOOSE ISLAND', 'STELLA ARTOIS',\n",
       "       'CORONA', 'VIEUX TEMPS', 'SCOTCH CTS', 'PURE BLONDE', 'CUBANISTO',\n",
       "       'GINETTE', 'KWAK', 'BASS', 'KRUGER', \"BECK'S\", 'HORSE ALE',\n",
       "       'GINDER-ALE', 'DEUS', 'SAFIR', 'BIRRA DEL BORGO'], dtype=object)"
      ]
     },
     "execution_count": 76,
     "metadata": {},
     "output_type": "execute_result"
    }
   ],
   "source": [
    "data.Brand.unique()"
   ]
  },
  {
   "cell_type": "code",
   "execution_count": 77,
   "metadata": {},
   "outputs": [
    {
     "data": {
      "text/plain": [
       "<AxesSubplot:xlabel='Brand', ylabel='count'>"
      ]
     },
     "execution_count": 77,
     "metadata": {},
     "output_type": "execute_result"
    },
    {
     "data": {
      "image/png": "[encoded data removed]",
      "text/plain": [
       "<Figure size 432x288 with 1 Axes>"
      ]
     },
     "metadata": {
      "needs_background": "light"
     },
     "output_type": "display_data"
    }
   ],
   "source": [
    "sns.countplot(x=\"Brand\", data= data)"
   ]
  },
  {
   "cell_type": "code",
   "execution_count": 78,
   "metadata": {},
   "outputs": [
    {
     "data": {
      "text/plain": [
       "array(['BOTTLE', 'BULK', 'KEG', 'CAN', 'PERFECTDRAFT'], dtype=object)"
      ]
     },
     "execution_count": 78,
     "metadata": {},
     "output_type": "execute_result"
    }
   ],
   "source": [
    "data.Pack_Type.unique()"
   ]
  },
  {
   "cell_type": "code",
   "execution_count": 79,
   "metadata": {},
   "outputs": [
    {
     "data": {
      "text/plain": [
       "<AxesSubplot:xlabel='Pack_Type', ylabel='count'>"
      ]
     },
     "execution_count": 79,
     "metadata": {},
     "output_type": "execute_result"
    },
    {
     "data": {
      "image/png": "[encoded data removed]",
      "text/plain": [
       "<Figure size 432x288 with 1 Axes>"
      ]
     },
     "metadata": {
      "needs_background": "light"
     },
     "output_type": "display_data"
    }
   ],
   "source": [
    "sns.countplot(x=\"Pack_Type\", data= data)"
   ]
  },
  {
   "cell_type": "code",
   "execution_count": 68,
   "metadata": {},
   "outputs": [
    {
     "data": {
      "text/plain": [
       "array(['RETURNABLE', 'OW'], dtype=object)"
      ]
     },
     "execution_count": 68,
     "metadata": {},
     "output_type": "execute_result"
    }
   ],
   "source": [
    "data.Returnalility.unique()"
   ]
  },
  {
   "cell_type": "code",
   "execution_count": 80,
   "metadata": {},
   "outputs": [
    {
     "data": {
      "text/plain": [
       "<AxesSubplot:xlabel='Returnalility', ylabel='count'>"
      ]
     },
     "execution_count": 80,
     "metadata": {},
     "output_type": "execute_result"
    },
    {
     "data": {
      "image/png": "[encoded data removed]",
      "text/plain": [
       "<Figure size 432x288 with 1 Axes>"
      ]
     },
     "metadata": {
      "needs_background": "light"
     },
     "output_type": "display_data"
    }
   ],
   "source": [
    "sns.countplot(x=\"Returnalility\", data= data)"
   ]
  },
  {
   "cell_type": "code",
   "execution_count": 69,
   "metadata": {
    "scrolled": true
   },
   "outputs": [
    {
     "data": {
      "text/plain": [
       "array(['Brussels Capital Region', 'Liège', 'Antwerp', 'Namur', 'Limburg',\n",
       "       'Hainaut', 'East Flanders', 'Flemish Brabant', 'West Flanders',\n",
       "       'Luxembourg', 'Walloon Brabant'], dtype=object)"
      ]
     },
     "execution_count": 69,
     "metadata": {},
     "output_type": "execute_result"
    }
   ],
   "source": [
    "data.province.unique()"
   ]
  },
  {
   "cell_type": "code",
   "execution_count": 82,
   "metadata": {},
   "outputs": [
    {
     "data": {
      "text/plain": [
       "<AxesSubplot:xlabel='province', ylabel='count'>"
      ]
     },
     "execution_count": 82,
     "metadata": {},
     "output_type": "execute_result"
    },
    {
     "data": {
      "image/png": "[encoded data removed]",
      "text/plain": [
       "<Figure size 432x288 with 1 Axes>"
      ]
     },
     "metadata": {
      "needs_background": "light"
     },
     "output_type": "display_data"
    }
   ],
   "source": [
    "sns.countplot(x=\"province\", data= data)"
   ]
  },
  {
   "cell_type": "code",
   "execution_count": 90,
   "metadata": {},
   "outputs": [
    {
     "data": {
      "text/plain": [
       "<AxesSubplot:ylabel='Frequency'>"
      ]
     },
     "execution_count": 90,
     "metadata": {},
     "output_type": "execute_result"
    },
    {
     "data": {
      "image/png": "[encoded data removed]",
      "text/plain": [
       "<Figure size 432x288 with 1 Axes>"
      ]
     },
     "metadata": {
      "needs_background": "light"
     },
     "output_type": "display_data"
    }
   ],
   "source": [
    "data[\"GTO_2019\"].plot.hist()"
   ]
  },
  {
   "cell_type": "code",
   "execution_count": 91,
   "metadata": {},
   "outputs": [
    {
     "data": {
      "text/plain": [
       "<AxesSubplot:ylabel='Frequency'>"
      ]
     },
     "execution_count": 91,
     "metadata": {},
     "output_type": "execute_result"
    },
    {
     "data": {
      "image/png": "[encoded data removed]",
      "text/plain": [
       "<Figure size 432x288 with 1 Axes>"
      ]
     },
     "metadata": {
      "needs_background": "light"
     },
     "output_type": "display_data"
    }
   ],
   "source": [
    "data[\"Discount_Total\"].plot.hist()"
   ]
  },
  {
   "cell_type": "code",
   "execution_count": 71,
   "metadata": {},
   "outputs": [
    {
     "name": "stdout",
     "output_type": "stream",
     "text": [
      "                            Volume_2019_customer_level  \\\n",
      "Volume_2019_customer_level                    1.000000   \n",
      "Volume_2018_customer_level                    0.961219   \n",
      "GTO_2019                                      0.319300   \n",
      "OnInvoice Discount(LCU)                       0.149615   \n",
      "OffInvoice Discount(LCU)                      0.286719   \n",
      "Volume_2019                                   0.309697   \n",
      "Tax                                           0.227728   \n",
      "Discount_Total                                0.305811   \n",
      "\n",
      "                            Volume_2018_customer_level  GTO_2019  \\\n",
      "Volume_2019_customer_level                    0.961219  0.319300   \n",
      "Volume_2018_customer_level                    1.000000  0.288709   \n",
      "GTO_2019                                      0.288709  1.000000   \n",
      "OnInvoice Discount(LCU)                       0.166480  0.396574   \n",
      "OffInvoice Discount(LCU)                      0.254547  0.917402   \n",
      "Volume_2019                                   0.278126  0.996513   \n",
      "Tax                                           0.231204  0.755724   \n",
      "Discount_Total                                0.278590  0.961178   \n",
      "\n",
      "                            OnInvoice Discount(LCU)  OffInvoice Discount(LCU)  \\\n",
      "Volume_2019_customer_level                 0.149615                  0.286719   \n",
      "Volume_2018_customer_level                 0.166480                  0.254547   \n",
      "GTO_2019                                   0.396574                  0.917402   \n",
      "OnInvoice Discount(LCU)                    1.000000                  0.100386   \n",
      "OffInvoice Discount(LCU)                   0.100386                  1.000000   \n",
      "Volume_2019                                0.369632                  0.916291   \n",
      "Tax                                        0.486106                  0.660084   \n",
      "Discount_Total                             0.306797                  0.977765   \n",
      "\n",
      "                            Volume_2019       Tax  Discount_Total  \n",
      "Volume_2019_customer_level     0.309697  0.227728        0.305811  \n",
      "Volume_2018_customer_level     0.278126  0.231204        0.278590  \n",
      "GTO_2019                       0.996513  0.755724        0.961178  \n",
      "OnInvoice Discount(LCU)        0.369632  0.486106        0.306797  \n",
      "OffInvoice Discount(LCU)       0.916291  0.660084        0.977765  \n",
      "Volume_2019                    1.000000  0.720149        0.954437  \n",
      "Tax                            0.720149  1.000000        0.733896  \n",
      "Discount_Total                 0.954437  0.733896        1.000000  \n"
     ]
    }
   ],
   "source": [
    "print(data.corr(method = \"pearson\"))"
   ]
  },
  {
   "cell_type": "markdown",
   "metadata": {},
   "source": [
    "From this data, we can clearly see that Gross Turnover has a strong correlation with Off-invoice Discount, Volume, Tax and total discout.\n",
    "Total discount has a strong correlation with GTO, OffInvoice Discount, "
   ]
  },
  {
   "cell_type": "code",
   "execution_count": 97,
   "metadata": {},
   "outputs": [
    {
     "data": {
      "image/png": "[encoded data removed]",
      "text/plain": [
       "<Figure size 432x288 with 1 Axes>"
      ]
     },
     "metadata": {
      "needs_background": "light"
     },
     "output_type": "display_data"
    }
   ],
   "source": [
    "data.plot.scatter(x = 'GTO_2019', y = 'Discount_Total', s = 1);"
   ]
  },
  {
   "cell_type": "code",
   "execution_count": null,
   "metadata": {},
   "outputs": [],
   "source": []
  }
 ],
 "metadata": {
  "kernelspec": {
   "display_name": "Python 3",
   "language": "python",
   "name": "python3"
  },
  "language_info": {
   "codemirror_mode": {
    "name": "ipython",
    "version": 3
   },
   "file_extension": ".py",
   "mimetype": "text/x-python",
   "name": "python",
   "nbconvert_exporter": "python",
   "pygments_lexer": "ipython3",
   "version": "3.8.5"
  }
 },
 "nbformat": 4,
 "nbformat_minor": 4
}
