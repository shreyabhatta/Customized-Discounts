{
 "cells": [
  {
   "cell_type": "code",
   "execution_count": 1,
   "metadata": {},
   "outputs": [],
   "source": [
    "# Data Ingestion\n",
    "\n",
    "import pandas as pd\n",
    "import numpy as np\n",
    "import seaborn as sns\n",
    "import matplotlib.pyplot as plt\n",
    "\n",
    "%matplotlib inline\n",
    "\n",
    "import math"
   ]
  },
  {
   "cell_type": "code",
   "execution_count": 2,
   "metadata": {},
   "outputs": [
    {
     "data": {
      "text/html": [
       "<div>\n",
       "<style scoped>\n",
       "    .dataframe tbody tr th:only-of-type {\n",
       "        vertical-align: middle;\n",
       "    }\n",
       "\n",
       "    .dataframe tbody tr th {\n",
       "        vertical-align: top;\n",
       "    }\n",
       "\n",
       "    .dataframe thead th {\n",
       "        text-align: right;\n",
       "    }\n",
       "</style>\n",
       "<table border=\"1\" class=\"dataframe\">\n",
       "  <thead>\n",
       "    <tr style=\"text-align: right;\">\n",
       "      <th></th>\n",
       "      <th>Ship-to ID</th>\n",
       "      <th>Volume_2019_customer_level</th>\n",
       "      <th>Volume_2018_customer_level</th>\n",
       "      <th>sfdc_tier</th>\n",
       "      <th>poc_image</th>\n",
       "      <th>segment</th>\n",
       "      <th>sub_segment</th>\n",
       "      <th>Product_Set</th>\n",
       "      <th>Brand</th>\n",
       "      <th>Sub_Brand</th>\n",
       "      <th>Pack_Type</th>\n",
       "      <th>Returnalility</th>\n",
       "      <th>GTO_2019</th>\n",
       "      <th>OnInvoice Discount(LCU)</th>\n",
       "      <th>OffInvoice Discount(LCU)</th>\n",
       "      <th>Volume_2019</th>\n",
       "      <th>Tax</th>\n",
       "      <th>province</th>\n",
       "      <th>Discount_Total</th>\n",
       "    </tr>\n",
       "  </thead>\n",
       "  <tbody>\n",
       "    <tr>\n",
       "      <th>0</th>\n",
       "      <td>29000332</td>\n",
       "      <td>0.48</td>\n",
       "      <td>0.557</td>\n",
       "      <td>Tier 0</td>\n",
       "      <td>Mainstream</td>\n",
       "      <td>Entertainment Led</td>\n",
       "      <td>Events</td>\n",
       "      <td>RETURNABLE_BOTTLE_JUPILER_JUPILER PILS</td>\n",
       "      <td>JUPILER</td>\n",
       "      <td>JUPILER PILS</td>\n",
       "      <td>BOTTLE</td>\n",
       "      <td>RETURNABLE</td>\n",
       "      <td>141.20</td>\n",
       "      <td>0.00</td>\n",
       "      <td>0.00</td>\n",
       "      <td>0.48</td>\n",
       "      <td>12.23</td>\n",
       "      <td>Brussels Capital Region</td>\n",
       "      <td>0.00</td>\n",
       "    </tr>\n",
       "    <tr>\n",
       "      <th>1</th>\n",
       "      <td>29000441</td>\n",
       "      <td>0.45</td>\n",
       "      <td>0.540</td>\n",
       "      <td>Tier 1</td>\n",
       "      <td>Mainstream</td>\n",
       "      <td>Not applicable</td>\n",
       "      <td>Not applicable</td>\n",
       "      <td>RETURNABLE_BOTTLE_PIEDBOEUF_PIEDBOEUF TRIPLE</td>\n",
       "      <td>PIEDBOEUF</td>\n",
       "      <td>PIEDBOEUF TRIPLE</td>\n",
       "      <td>BOTTLE</td>\n",
       "      <td>RETURNABLE</td>\n",
       "      <td>113.65</td>\n",
       "      <td>0.00</td>\n",
       "      <td>0.00</td>\n",
       "      <td>0.45</td>\n",
       "      <td>7.85</td>\n",
       "      <td>Liège</td>\n",
       "      <td>0.00</td>\n",
       "    </tr>\n",
       "    <tr>\n",
       "      <th>2</th>\n",
       "      <td>29000452</td>\n",
       "      <td>270.97</td>\n",
       "      <td>225.720</td>\n",
       "      <td>Tier 1</td>\n",
       "      <td>Mainstream</td>\n",
       "      <td>Drink Led</td>\n",
       "      <td>Party Place</td>\n",
       "      <td>OW_BULK_JUPILER_JUPILER PILS</td>\n",
       "      <td>JUPILER</td>\n",
       "      <td>JUPILER PILS</td>\n",
       "      <td>BULK</td>\n",
       "      <td>OW</td>\n",
       "      <td>61551.06</td>\n",
       "      <td>14511.46</td>\n",
       "      <td>0.00</td>\n",
       "      <td>238.57</td>\n",
       "      <td>3577.69</td>\n",
       "      <td>Antwerp</td>\n",
       "      <td>14511.46</td>\n",
       "    </tr>\n",
       "    <tr>\n",
       "      <th>3</th>\n",
       "      <td>29000452</td>\n",
       "      <td>270.97</td>\n",
       "      <td>225.720</td>\n",
       "      <td>Tier 1</td>\n",
       "      <td>Mainstream</td>\n",
       "      <td>Drink Led</td>\n",
       "      <td>Party Place</td>\n",
       "      <td>RETURNABLE_BOTTLE_JUPILER_JUPILER PILS</td>\n",
       "      <td>JUPILER</td>\n",
       "      <td>JUPILER PILS</td>\n",
       "      <td>BOTTLE</td>\n",
       "      <td>RETURNABLE</td>\n",
       "      <td>6001.00</td>\n",
       "      <td>1425.19</td>\n",
       "      <td>180.00</td>\n",
       "      <td>20.40</td>\n",
       "      <td>519.41</td>\n",
       "      <td>Antwerp</td>\n",
       "      <td>1605.19</td>\n",
       "    </tr>\n",
       "    <tr>\n",
       "      <th>4</th>\n",
       "      <td>29000452</td>\n",
       "      <td>270.97</td>\n",
       "      <td>225.720</td>\n",
       "      <td>Tier 1</td>\n",
       "      <td>Mainstream</td>\n",
       "      <td>Drink Led</td>\n",
       "      <td>Party Place</td>\n",
       "      <td>RETURNABLE_KEG_JUPILER_JUPILER PILS</td>\n",
       "      <td>JUPILER</td>\n",
       "      <td>JUPILER PILS</td>\n",
       "      <td>KEG</td>\n",
       "      <td>RETURNABLE</td>\n",
       "      <td>3051.36</td>\n",
       "      <td>718.32</td>\n",
       "      <td>0.00</td>\n",
       "      <td>12.00</td>\n",
       "      <td>288.63</td>\n",
       "      <td>Antwerp</td>\n",
       "      <td>718.32</td>\n",
       "    </tr>\n",
       "    <tr>\n",
       "      <th>5</th>\n",
       "      <td>29000507</td>\n",
       "      <td>29.61</td>\n",
       "      <td>25.860</td>\n",
       "      <td>Tier 2</td>\n",
       "      <td>Mainstream</td>\n",
       "      <td>Institutional</td>\n",
       "      <td>Institutional</td>\n",
       "      <td>RETURNABLE_BOTTLE_JUPILER_JUPILER 0,0</td>\n",
       "      <td>JUPILER</td>\n",
       "      <td>JUPILER 0,0</td>\n",
       "      <td>BOTTLE</td>\n",
       "      <td>RETURNABLE</td>\n",
       "      <td>104.10</td>\n",
       "      <td>0.00</td>\n",
       "      <td>0.00</td>\n",
       "      <td>0.30</td>\n",
       "      <td>1.55</td>\n",
       "      <td>Namur</td>\n",
       "      <td>0.00</td>\n",
       "    </tr>\n",
       "    <tr>\n",
       "      <th>6</th>\n",
       "      <td>29000507</td>\n",
       "      <td>29.61</td>\n",
       "      <td>25.860</td>\n",
       "      <td>Tier 2</td>\n",
       "      <td>Mainstream</td>\n",
       "      <td>Institutional</td>\n",
       "      <td>Institutional</td>\n",
       "      <td>RETURNABLE_BOTTLE_JUPILER_JUPILER PILS</td>\n",
       "      <td>JUPILER</td>\n",
       "      <td>JUPILER PILS</td>\n",
       "      <td>BOTTLE</td>\n",
       "      <td>RETURNABLE</td>\n",
       "      <td>176.50</td>\n",
       "      <td>0.00</td>\n",
       "      <td>0.00</td>\n",
       "      <td>0.60</td>\n",
       "      <td>15.27</td>\n",
       "      <td>Namur</td>\n",
       "      <td>0.00</td>\n",
       "    </tr>\n",
       "    <tr>\n",
       "      <th>7</th>\n",
       "      <td>29000507</td>\n",
       "      <td>29.61</td>\n",
       "      <td>25.860</td>\n",
       "      <td>Tier 2</td>\n",
       "      <td>Mainstream</td>\n",
       "      <td>Institutional</td>\n",
       "      <td>Institutional</td>\n",
       "      <td>RETURNABLE_BOTTLE_PIEDBOEUF_PIEDBOEUF BLONDE</td>\n",
       "      <td>PIEDBOEUF</td>\n",
       "      <td>PIEDBOEUF BLONDE</td>\n",
       "      <td>BOTTLE</td>\n",
       "      <td>RETURNABLE</td>\n",
       "      <td>2227.65</td>\n",
       "      <td>0.00</td>\n",
       "      <td>686.13</td>\n",
       "      <td>11.34</td>\n",
       "      <td>61.37</td>\n",
       "      <td>Namur</td>\n",
       "      <td>686.13</td>\n",
       "    </tr>\n",
       "    <tr>\n",
       "      <th>8</th>\n",
       "      <td>29000507</td>\n",
       "      <td>29.61</td>\n",
       "      <td>25.860</td>\n",
       "      <td>Tier 2</td>\n",
       "      <td>Mainstream</td>\n",
       "      <td>Institutional</td>\n",
       "      <td>Institutional</td>\n",
       "      <td>RETURNABLE_BOTTLE_PIEDBOEUF_PIEDBOEUF FONCEE</td>\n",
       "      <td>PIEDBOEUF</td>\n",
       "      <td>PIEDBOEUF FONCEE</td>\n",
       "      <td>BOTTLE</td>\n",
       "      <td>RETURNABLE</td>\n",
       "      <td>3412.19</td>\n",
       "      <td>0.00</td>\n",
       "      <td>1050.98</td>\n",
       "      <td>17.37</td>\n",
       "      <td>94.12</td>\n",
       "      <td>Namur</td>\n",
       "      <td>1050.98</td>\n",
       "    </tr>\n",
       "    <tr>\n",
       "      <th>9</th>\n",
       "      <td>29000721</td>\n",
       "      <td>0.42</td>\n",
       "      <td>0.505</td>\n",
       "      <td>Tier 2</td>\n",
       "      <td>Mainstream</td>\n",
       "      <td>Institutional</td>\n",
       "      <td>Institutional</td>\n",
       "      <td>RETURNABLE_BOTTLE_JUPILER_JUPILER 0,0</td>\n",
       "      <td>JUPILER</td>\n",
       "      <td>JUPILER 0,0</td>\n",
       "      <td>BOTTLE</td>\n",
       "      <td>RETURNABLE</td>\n",
       "      <td>20.82</td>\n",
       "      <td>6.15</td>\n",
       "      <td>0.00</td>\n",
       "      <td>0.06</td>\n",
       "      <td>0.31</td>\n",
       "      <td>Antwerp</td>\n",
       "      <td>6.15</td>\n",
       "    </tr>\n",
       "  </tbody>\n",
       "</table>\n",
       "</div>"
      ],
      "text/plain": [
       "   Ship-to ID  Volume_2019_customer_level  Volume_2018_customer_level  \\\n",
       "0    29000332                        0.48                       0.557   \n",
       "1    29000441                        0.45                       0.540   \n",
       "2    29000452                      270.97                     225.720   \n",
       "3    29000452                      270.97                     225.720   \n",
       "4    29000452                      270.97                     225.720   \n",
       "5    29000507                       29.61                      25.860   \n",
       "6    29000507                       29.61                      25.860   \n",
       "7    29000507                       29.61                      25.860   \n",
       "8    29000507                       29.61                      25.860   \n",
       "9    29000721                        0.42                       0.505   \n",
       "\n",
       "  sfdc_tier   poc_image            segment     sub_segment  \\\n",
       "0    Tier 0  Mainstream  Entertainment Led          Events   \n",
       "1    Tier 1  Mainstream     Not applicable  Not applicable   \n",
       "2    Tier 1  Mainstream          Drink Led     Party Place   \n",
       "3    Tier 1  Mainstream          Drink Led     Party Place   \n",
       "4    Tier 1  Mainstream          Drink Led     Party Place   \n",
       "5    Tier 2  Mainstream      Institutional   Institutional   \n",
       "6    Tier 2  Mainstream      Institutional   Institutional   \n",
       "7    Tier 2  Mainstream      Institutional   Institutional   \n",
       "8    Tier 2  Mainstream      Institutional   Institutional   \n",
       "9    Tier 2  Mainstream      Institutional   Institutional   \n",
       "\n",
       "                                    Product_Set      Brand         Sub_Brand  \\\n",
       "0        RETURNABLE_BOTTLE_JUPILER_JUPILER PILS    JUPILER      JUPILER PILS   \n",
       "1  RETURNABLE_BOTTLE_PIEDBOEUF_PIEDBOEUF TRIPLE  PIEDBOEUF  PIEDBOEUF TRIPLE   \n",
       "2                  OW_BULK_JUPILER_JUPILER PILS    JUPILER      JUPILER PILS   \n",
       "3        RETURNABLE_BOTTLE_JUPILER_JUPILER PILS    JUPILER      JUPILER PILS   \n",
       "4           RETURNABLE_KEG_JUPILER_JUPILER PILS    JUPILER      JUPILER PILS   \n",
       "5         RETURNABLE_BOTTLE_JUPILER_JUPILER 0,0    JUPILER       JUPILER 0,0   \n",
       "6        RETURNABLE_BOTTLE_JUPILER_JUPILER PILS    JUPILER      JUPILER PILS   \n",
       "7  RETURNABLE_BOTTLE_PIEDBOEUF_PIEDBOEUF BLONDE  PIEDBOEUF  PIEDBOEUF BLONDE   \n",
       "8  RETURNABLE_BOTTLE_PIEDBOEUF_PIEDBOEUF FONCEE  PIEDBOEUF  PIEDBOEUF FONCEE   \n",
       "9         RETURNABLE_BOTTLE_JUPILER_JUPILER 0,0    JUPILER       JUPILER 0,0   \n",
       "\n",
       "  Pack_Type Returnalility  GTO_2019  OnInvoice Discount(LCU)  \\\n",
       "0    BOTTLE    RETURNABLE    141.20                     0.00   \n",
       "1    BOTTLE    RETURNABLE    113.65                     0.00   \n",
       "2      BULK            OW  61551.06                 14511.46   \n",
       "3    BOTTLE    RETURNABLE   6001.00                  1425.19   \n",
       "4       KEG    RETURNABLE   3051.36                   718.32   \n",
       "5    BOTTLE    RETURNABLE    104.10                     0.00   \n",
       "6    BOTTLE    RETURNABLE    176.50                     0.00   \n",
       "7    BOTTLE    RETURNABLE   2227.65                     0.00   \n",
       "8    BOTTLE    RETURNABLE   3412.19                     0.00   \n",
       "9    BOTTLE    RETURNABLE     20.82                     6.15   \n",
       "\n",
       "   OffInvoice Discount(LCU)  Volume_2019      Tax                 province  \\\n",
       "0                      0.00         0.48    12.23  Brussels Capital Region   \n",
       "1                      0.00         0.45     7.85                    Liège   \n",
       "2                      0.00       238.57  3577.69                  Antwerp   \n",
       "3                    180.00        20.40   519.41                  Antwerp   \n",
       "4                      0.00        12.00   288.63                  Antwerp   \n",
       "5                      0.00         0.30     1.55                    Namur   \n",
       "6                      0.00         0.60    15.27                    Namur   \n",
       "7                    686.13        11.34    61.37                    Namur   \n",
       "8                   1050.98        17.37    94.12                    Namur   \n",
       "9                      0.00         0.06     0.31                  Antwerp   \n",
       "\n",
       "   Discount_Total  \n",
       "0            0.00  \n",
       "1            0.00  \n",
       "2        14511.46  \n",
       "3         1605.19  \n",
       "4          718.32  \n",
       "5            0.00  \n",
       "6            0.00  \n",
       "7          686.13  \n",
       "8         1050.98  \n",
       "9            6.15  "
      ]
     },
     "execution_count": 2,
     "metadata": {},
     "output_type": "execute_result"
    }
   ],
   "source": [
    "data = pd.read_csv(\"Belgium_Dataset.csv\",encoding='latin-1')\n",
    "data.head(10)  #first ten observations of the data set"
   ]
  },
  {
   "cell_type": "code",
   "execution_count": 3,
   "metadata": {},
   "outputs": [
    {
     "data": {
      "text/html": [
       "<div>\n",
       "<style scoped>\n",
       "    .dataframe tbody tr th:only-of-type {\n",
       "        vertical-align: middle;\n",
       "    }\n",
       "\n",
       "    .dataframe tbody tr th {\n",
       "        vertical-align: top;\n",
       "    }\n",
       "\n",
       "    .dataframe thead th {\n",
       "        text-align: right;\n",
       "    }\n",
       "</style>\n",
       "<table border=\"1\" class=\"dataframe\">\n",
       "  <thead>\n",
       "    <tr style=\"text-align: right;\">\n",
       "      <th></th>\n",
       "      <th>Volume_2019_customer_level</th>\n",
       "      <th>Volume_2018_customer_level</th>\n",
       "      <th>sfdc_tier</th>\n",
       "      <th>poc_image</th>\n",
       "      <th>segment</th>\n",
       "      <th>sub_segment</th>\n",
       "      <th>Product_Set</th>\n",
       "      <th>Brand</th>\n",
       "      <th>Sub_Brand</th>\n",
       "      <th>Pack_Type</th>\n",
       "      <th>Returnalility</th>\n",
       "      <th>GTO_2019</th>\n",
       "      <th>OnInvoice Discount(LCU)</th>\n",
       "      <th>OffInvoice Discount(LCU)</th>\n",
       "      <th>Volume_2019</th>\n",
       "      <th>Tax</th>\n",
       "      <th>province</th>\n",
       "      <th>Discount_Total</th>\n",
       "    </tr>\n",
       "  </thead>\n",
       "  <tbody>\n",
       "    <tr>\n",
       "      <th>0</th>\n",
       "      <td>0.48</td>\n",
       "      <td>0.557</td>\n",
       "      <td>Tier 0</td>\n",
       "      <td>Mainstream</td>\n",
       "      <td>Entertainment Led</td>\n",
       "      <td>Events</td>\n",
       "      <td>RETURNABLE_BOTTLE_JUPILER_JUPILER PILS</td>\n",
       "      <td>JUPILER</td>\n",
       "      <td>JUPILER PILS</td>\n",
       "      <td>BOTTLE</td>\n",
       "      <td>RETURNABLE</td>\n",
       "      <td>141.20</td>\n",
       "      <td>0.00</td>\n",
       "      <td>0.0</td>\n",
       "      <td>0.48</td>\n",
       "      <td>12.23</td>\n",
       "      <td>Brussels Capital Region</td>\n",
       "      <td>0.00</td>\n",
       "    </tr>\n",
       "    <tr>\n",
       "      <th>1</th>\n",
       "      <td>0.45</td>\n",
       "      <td>0.540</td>\n",
       "      <td>Tier 1</td>\n",
       "      <td>Mainstream</td>\n",
       "      <td>Not applicable</td>\n",
       "      <td>Not applicable</td>\n",
       "      <td>RETURNABLE_BOTTLE_PIEDBOEUF_PIEDBOEUF TRIPLE</td>\n",
       "      <td>PIEDBOEUF</td>\n",
       "      <td>PIEDBOEUF TRIPLE</td>\n",
       "      <td>BOTTLE</td>\n",
       "      <td>RETURNABLE</td>\n",
       "      <td>113.65</td>\n",
       "      <td>0.00</td>\n",
       "      <td>0.0</td>\n",
       "      <td>0.45</td>\n",
       "      <td>7.85</td>\n",
       "      <td>Liège</td>\n",
       "      <td>0.00</td>\n",
       "    </tr>\n",
       "    <tr>\n",
       "      <th>2</th>\n",
       "      <td>270.97</td>\n",
       "      <td>225.720</td>\n",
       "      <td>Tier 1</td>\n",
       "      <td>Mainstream</td>\n",
       "      <td>Drink Led</td>\n",
       "      <td>Party Place</td>\n",
       "      <td>OW_BULK_JUPILER_JUPILER PILS</td>\n",
       "      <td>JUPILER</td>\n",
       "      <td>JUPILER PILS</td>\n",
       "      <td>BULK</td>\n",
       "      <td>OW</td>\n",
       "      <td>61551.06</td>\n",
       "      <td>14511.46</td>\n",
       "      <td>0.0</td>\n",
       "      <td>238.57</td>\n",
       "      <td>3577.69</td>\n",
       "      <td>Antwerp</td>\n",
       "      <td>14511.46</td>\n",
       "    </tr>\n",
       "    <tr>\n",
       "      <th>3</th>\n",
       "      <td>270.97</td>\n",
       "      <td>225.720</td>\n",
       "      <td>Tier 1</td>\n",
       "      <td>Mainstream</td>\n",
       "      <td>Drink Led</td>\n",
       "      <td>Party Place</td>\n",
       "      <td>RETURNABLE_BOTTLE_JUPILER_JUPILER PILS</td>\n",
       "      <td>JUPILER</td>\n",
       "      <td>JUPILER PILS</td>\n",
       "      <td>BOTTLE</td>\n",
       "      <td>RETURNABLE</td>\n",
       "      <td>6001.00</td>\n",
       "      <td>1425.19</td>\n",
       "      <td>180.0</td>\n",
       "      <td>20.40</td>\n",
       "      <td>519.41</td>\n",
       "      <td>Antwerp</td>\n",
       "      <td>1605.19</td>\n",
       "    </tr>\n",
       "    <tr>\n",
       "      <th>4</th>\n",
       "      <td>270.97</td>\n",
       "      <td>225.720</td>\n",
       "      <td>Tier 1</td>\n",
       "      <td>Mainstream</td>\n",
       "      <td>Drink Led</td>\n",
       "      <td>Party Place</td>\n",
       "      <td>RETURNABLE_KEG_JUPILER_JUPILER PILS</td>\n",
       "      <td>JUPILER</td>\n",
       "      <td>JUPILER PILS</td>\n",
       "      <td>KEG</td>\n",
       "      <td>RETURNABLE</td>\n",
       "      <td>3051.36</td>\n",
       "      <td>718.32</td>\n",
       "      <td>0.0</td>\n",
       "      <td>12.00</td>\n",
       "      <td>288.63</td>\n",
       "      <td>Antwerp</td>\n",
       "      <td>718.32</td>\n",
       "    </tr>\n",
       "  </tbody>\n",
       "</table>\n",
       "</div>"
      ],
      "text/plain": [
       "   Volume_2019_customer_level  Volume_2018_customer_level sfdc_tier  \\\n",
       "0                        0.48                       0.557    Tier 0   \n",
       "1                        0.45                       0.540    Tier 1   \n",
       "2                      270.97                     225.720    Tier 1   \n",
       "3                      270.97                     225.720    Tier 1   \n",
       "4                      270.97                     225.720    Tier 1   \n",
       "\n",
       "    poc_image            segment     sub_segment  \\\n",
       "0  Mainstream  Entertainment Led          Events   \n",
       "1  Mainstream     Not applicable  Not applicable   \n",
       "2  Mainstream          Drink Led     Party Place   \n",
       "3  Mainstream          Drink Led     Party Place   \n",
       "4  Mainstream          Drink Led     Party Place   \n",
       "\n",
       "                                    Product_Set      Brand         Sub_Brand  \\\n",
       "0        RETURNABLE_BOTTLE_JUPILER_JUPILER PILS    JUPILER      JUPILER PILS   \n",
       "1  RETURNABLE_BOTTLE_PIEDBOEUF_PIEDBOEUF TRIPLE  PIEDBOEUF  PIEDBOEUF TRIPLE   \n",
       "2                  OW_BULK_JUPILER_JUPILER PILS    JUPILER      JUPILER PILS   \n",
       "3        RETURNABLE_BOTTLE_JUPILER_JUPILER PILS    JUPILER      JUPILER PILS   \n",
       "4           RETURNABLE_KEG_JUPILER_JUPILER PILS    JUPILER      JUPILER PILS   \n",
       "\n",
       "  Pack_Type Returnalility  GTO_2019  OnInvoice Discount(LCU)  \\\n",
       "0    BOTTLE    RETURNABLE    141.20                     0.00   \n",
       "1    BOTTLE    RETURNABLE    113.65                     0.00   \n",
       "2      BULK            OW  61551.06                 14511.46   \n",
       "3    BOTTLE    RETURNABLE   6001.00                  1425.19   \n",
       "4       KEG    RETURNABLE   3051.36                   718.32   \n",
       "\n",
       "   OffInvoice Discount(LCU)  Volume_2019      Tax                 province  \\\n",
       "0                       0.0         0.48    12.23  Brussels Capital Region   \n",
       "1                       0.0         0.45     7.85                    Liège   \n",
       "2                       0.0       238.57  3577.69                  Antwerp   \n",
       "3                     180.0        20.40   519.41                  Antwerp   \n",
       "4                       0.0        12.00   288.63                  Antwerp   \n",
       "\n",
       "   Discount_Total  \n",
       "0            0.00  \n",
       "1            0.00  \n",
       "2        14511.46  \n",
       "3         1605.19  \n",
       "4          718.32  "
      ]
     },
     "execution_count": 3,
     "metadata": {},
     "output_type": "execute_result"
    }
   ],
   "source": [
    "data.drop(columns=\"Ship-to ID\" , inplace = True, axis =1) #because ship-to id is unique to everyone and is insignificant to the result\n",
    "data.head() "
   ]
  },
  {
   "cell_type": "code",
   "execution_count": 4,
   "metadata": {},
   "outputs": [
    {
     "name": "stdout",
     "output_type": "stream",
     "text": [
      "Total Rows = 39859\n",
      "Total Columns = 18\n"
     ]
    }
   ],
   "source": [
    "print(\"Total Rows = \" + str(data.shape[0]) + \"\\nTotal Columns = \" + str(data.shape[1])) "
   ]
  },
  {
   "cell_type": "markdown",
   "metadata": {},
   "source": [
    "Clearly, Dataset comprises of 39859 observations and 19 characteristics.\n"
   ]
  },
  {
   "cell_type": "code",
   "execution_count": 5,
   "metadata": {},
   "outputs": [
    {
     "name": "stdout",
     "output_type": "stream",
     "text": [
      "<class 'pandas.core.frame.DataFrame'>\n",
      "RangeIndex: 39859 entries, 0 to 39858\n",
      "Data columns (total 18 columns):\n",
      " #   Column                      Non-Null Count  Dtype  \n",
      "---  ------                      --------------  -----  \n",
      " 0   Volume_2019_customer_level  39859 non-null  float64\n",
      " 1   Volume_2018_customer_level  39859 non-null  float64\n",
      " 2   sfdc_tier                   39859 non-null  object \n",
      " 3   poc_image                   39859 non-null  object \n",
      " 4   segment                     39859 non-null  object \n",
      " 5   sub_segment                 39859 non-null  object \n",
      " 6   Product_Set                 39859 non-null  object \n",
      " 7   Brand                       39859 non-null  object \n",
      " 8   Sub_Brand                   39859 non-null  object \n",
      " 9   Pack_Type                   39859 non-null  object \n",
      " 10  Returnalility               39859 non-null  object \n",
      " 11  GTO_2019                    39859 non-null  float64\n",
      " 12  OnInvoice Discount(LCU)     39859 non-null  float64\n",
      " 13  OffInvoice Discount(LCU)    39859 non-null  float64\n",
      " 14  Volume_2019                 39859 non-null  float64\n",
      " 15  Tax                         39859 non-null  float64\n",
      " 16  province                    39859 non-null  object \n",
      " 17  Discount_Total              39859 non-null  float64\n",
      "dtypes: float64(8), object(10)\n",
      "memory usage: 5.5+ MB\n"
     ]
    }
   ],
   "source": [
    "data.info() #columns and corresponding data types, finding whether they contain null values or not"
   ]
  },
  {
   "cell_type": "markdown",
   "metadata": {},
   "source": [
    "No variable column has null/missing values."
   ]
  },
  {
   "cell_type": "code",
   "execution_count": 6,
   "metadata": {},
   "outputs": [
    {
     "data": {
      "text/html": [
       "<div>\n",
       "<style scoped>\n",
       "    .dataframe tbody tr th:only-of-type {\n",
       "        vertical-align: middle;\n",
       "    }\n",
       "\n",
       "    .dataframe tbody tr th {\n",
       "        vertical-align: top;\n",
       "    }\n",
       "\n",
       "    .dataframe thead th {\n",
       "        text-align: right;\n",
       "    }\n",
       "</style>\n",
       "<table border=\"1\" class=\"dataframe\">\n",
       "  <thead>\n",
       "    <tr style=\"text-align: right;\">\n",
       "      <th></th>\n",
       "      <th>Volume_2019_customer_level</th>\n",
       "      <th>Volume_2018_customer_level</th>\n",
       "      <th>GTO_2019</th>\n",
       "      <th>OnInvoice Discount(LCU)</th>\n",
       "      <th>OffInvoice Discount(LCU)</th>\n",
       "      <th>Volume_2019</th>\n",
       "      <th>Tax</th>\n",
       "      <th>Discount_Total</th>\n",
       "    </tr>\n",
       "  </thead>\n",
       "  <tbody>\n",
       "    <tr>\n",
       "      <th>count</th>\n",
       "      <td>39859.000000</td>\n",
       "      <td>39859.000000</td>\n",
       "      <td>3.985900e+04</td>\n",
       "      <td>39859.000000</td>\n",
       "      <td>3.985900e+04</td>\n",
       "      <td>39859.000000</td>\n",
       "      <td>39859.000000</td>\n",
       "      <td>3.985900e+04</td>\n",
       "    </tr>\n",
       "    <tr>\n",
       "      <th>mean</th>\n",
       "      <td>125.514751</td>\n",
       "      <td>124.553338</td>\n",
       "      <td>2.329499e+03</td>\n",
       "      <td>296.258596</td>\n",
       "      <td>3.227985e+02</td>\n",
       "      <td>8.466336</td>\n",
       "      <td>196.776225</td>\n",
       "      <td>6.190571e+02</td>\n",
       "    </tr>\n",
       "    <tr>\n",
       "      <th>std</th>\n",
       "      <td>417.311600</td>\n",
       "      <td>434.081066</td>\n",
       "      <td>2.183562e+04</td>\n",
       "      <td>2215.120009</td>\n",
       "      <td>1.005300e+04</td>\n",
       "      <td>88.055689</td>\n",
       "      <td>1523.500791</td>\n",
       "      <td>1.050909e+04</td>\n",
       "    </tr>\n",
       "    <tr>\n",
       "      <th>min</th>\n",
       "      <td>-6.000000</td>\n",
       "      <td>-21.100000</td>\n",
       "      <td>-1.625964e+04</td>\n",
       "      <td>-1721.640000</td>\n",
       "      <td>-2.097762e+04</td>\n",
       "      <td>-18.600000</td>\n",
       "      <td>-442.540000</td>\n",
       "      <td>-2.087009e+04</td>\n",
       "    </tr>\n",
       "    <tr>\n",
       "      <th>25%</th>\n",
       "      <td>23.635000</td>\n",
       "      <td>24.200000</td>\n",
       "      <td>7.712000e+01</td>\n",
       "      <td>0.000000</td>\n",
       "      <td>0.000000e+00</td>\n",
       "      <td>0.237000</td>\n",
       "      <td>4.505000</td>\n",
       "      <td>6.540000e+00</td>\n",
       "    </tr>\n",
       "    <tr>\n",
       "      <th>50%</th>\n",
       "      <td>60.583000</td>\n",
       "      <td>59.332000</td>\n",
       "      <td>2.234700e+02</td>\n",
       "      <td>18.000000</td>\n",
       "      <td>0.000000e+00</td>\n",
       "      <td>0.600000</td>\n",
       "      <td>14.100000</td>\n",
       "      <td>3.370000e+01</td>\n",
       "    </tr>\n",
       "    <tr>\n",
       "      <th>75%</th>\n",
       "      <td>117.508000</td>\n",
       "      <td>117.687000</td>\n",
       "      <td>7.992400e+02</td>\n",
       "      <td>87.080000</td>\n",
       "      <td>1.643000e+01</td>\n",
       "      <td>2.340000</td>\n",
       "      <td>60.845000</td>\n",
       "      <td>1.422400e+02</td>\n",
       "    </tr>\n",
       "    <tr>\n",
       "      <th>max</th>\n",
       "      <td>14773.000000</td>\n",
       "      <td>11636.000000</td>\n",
       "      <td>2.727988e+06</td>\n",
       "      <td>214981.440000</td>\n",
       "      <td>1.260856e+06</td>\n",
       "      <td>11662.500000</td>\n",
       "      <td>153880.570000</td>\n",
       "      <td>1.260856e+06</td>\n",
       "    </tr>\n",
       "  </tbody>\n",
       "</table>\n",
       "</div>"
      ],
      "text/plain": [
       "       Volume_2019_customer_level  Volume_2018_customer_level      GTO_2019  \\\n",
       "count                39859.000000                39859.000000  3.985900e+04   \n",
       "mean                   125.514751                  124.553338  2.329499e+03   \n",
       "std                    417.311600                  434.081066  2.183562e+04   \n",
       "min                     -6.000000                  -21.100000 -1.625964e+04   \n",
       "25%                     23.635000                   24.200000  7.712000e+01   \n",
       "50%                     60.583000                   59.332000  2.234700e+02   \n",
       "75%                    117.508000                  117.687000  7.992400e+02   \n",
       "max                  14773.000000                11636.000000  2.727988e+06   \n",
       "\n",
       "       OnInvoice Discount(LCU)  OffInvoice Discount(LCU)   Volume_2019  \\\n",
       "count             39859.000000              3.985900e+04  39859.000000   \n",
       "mean                296.258596              3.227985e+02      8.466336   \n",
       "std                2215.120009              1.005300e+04     88.055689   \n",
       "min               -1721.640000             -2.097762e+04    -18.600000   \n",
       "25%                   0.000000              0.000000e+00      0.237000   \n",
       "50%                  18.000000              0.000000e+00      0.600000   \n",
       "75%                  87.080000              1.643000e+01      2.340000   \n",
       "max              214981.440000              1.260856e+06  11662.500000   \n",
       "\n",
       "                 Tax  Discount_Total  \n",
       "count   39859.000000    3.985900e+04  \n",
       "mean      196.776225    6.190571e+02  \n",
       "std      1523.500791    1.050909e+04  \n",
       "min      -442.540000   -2.087009e+04  \n",
       "25%         4.505000    6.540000e+00  \n",
       "50%        14.100000    3.370000e+01  \n",
       "75%        60.845000    1.422400e+02  \n",
       "max    153880.570000    1.260856e+06  "
      ]
     },
     "execution_count": 6,
     "metadata": {},
     "output_type": "execute_result"
    }
   ],
   "source": [
    "data.describe()"
   ]
  },
  {
   "cell_type": "code",
   "execution_count": 7,
   "metadata": {},
   "outputs": [
    {
     "data": {
      "text/plain": [
       "Volume_2019_customer_level     4055\n",
       "Volume_2018_customer_level     4082\n",
       "sfdc_tier                         3\n",
       "poc_image                         3\n",
       "segment                           6\n",
       "sub_segment                      16\n",
       "Product_Set                     143\n",
       "Brand                            24\n",
       "Sub_Brand                        65\n",
       "Pack_Type                         5\n",
       "Returnalility                     2\n",
       "GTO_2019                      10552\n",
       "OnInvoice Discount(LCU)       14050\n",
       "OffInvoice Discount(LCU)       9205\n",
       "Volume_2019                    3032\n",
       "Tax                            9277\n",
       "province                         11\n",
       "Discount_Total                17810\n",
       "dtype: int64"
      ]
     },
     "execution_count": 7,
     "metadata": {},
     "output_type": "execute_result"
    }
   ],
   "source": [
    "data.nunique()"
   ]
  },
  {
   "cell_type": "code",
   "execution_count": 8,
   "metadata": {},
   "outputs": [
    {
     "data": {
      "text/plain": [
       "array(['Tier 0', 'Tier 1', 'Tier 2'], dtype=object)"
      ]
     },
     "execution_count": 8,
     "metadata": {},
     "output_type": "execute_result"
    }
   ],
   "source": [
    "#Data Wrangling\n",
    "\n",
    "#We will examine each attribute and look for outliers and redundancies\n",
    "\n",
    "data.sfdc_tier.unique()"
   ]
  },
  {
   "cell_type": "code",
   "execution_count": 9,
   "metadata": {},
   "outputs": [
    {
     "data": {
      "text/plain": [
       "array(['Mainstream', 'Premium', '0'], dtype=object)"
      ]
     },
     "execution_count": 9,
     "metadata": {},
     "output_type": "execute_result"
    }
   ],
   "source": [
    "data.poc_image.unique()"
   ]
  },
  {
   "cell_type": "code",
   "execution_count": 10,
   "metadata": {},
   "outputs": [
    {
     "data": {
      "text/plain": [
       "80"
      ]
     },
     "execution_count": 10,
     "metadata": {},
     "output_type": "execute_result"
    }
   ],
   "source": [
    "(data.poc_image=='0').sum() "
   ]
  },
  {
   "cell_type": "code",
   "execution_count": 11,
   "metadata": {},
   "outputs": [
    {
     "data": {
      "text/plain": [
       "(39779, 18)"
      ]
     },
     "execution_count": 11,
     "metadata": {},
     "output_type": "execute_result"
    }
   ],
   "source": [
    "#We need to drop the 0 values\n",
    "\n",
    "data = data.loc[data[\"poc_image\"] != '0']\n",
    "data.shape"
   ]
  },
  {
   "cell_type": "code",
   "execution_count": 12,
   "metadata": {},
   "outputs": [
    {
     "data": {
      "text/plain": [
       "array(['Entertainment Led', 'Not applicable', 'Drink Led',\n",
       "       'Institutional', 'Food Led', 'Wholesaler'], dtype=object)"
      ]
     },
     "execution_count": 12,
     "metadata": {},
     "output_type": "execute_result"
    }
   ],
   "source": [
    "data.segment.unique()"
   ]
  },
  {
   "cell_type": "code",
   "execution_count": 13,
   "metadata": {},
   "outputs": [
    {
     "data": {
      "text/plain": [
       "33"
      ]
     },
     "execution_count": 13,
     "metadata": {},
     "output_type": "execute_result"
    }
   ],
   "source": [
    "(data.segment=='Not applicable').sum() "
   ]
  },
  {
   "cell_type": "code",
   "execution_count": 14,
   "metadata": {},
   "outputs": [
    {
     "data": {
      "text/plain": [
       "(39746, 18)"
      ]
     },
     "execution_count": 14,
     "metadata": {},
     "output_type": "execute_result"
    }
   ],
   "source": [
    "#We need to drop the Not Applicable values\n",
    "\n",
    "data = data.loc[data[\"segment\"] != 'Not applicable']\n",
    "data.shape"
   ]
  },
  {
   "cell_type": "code",
   "execution_count": 15,
   "metadata": {},
   "outputs": [
    {
     "data": {
      "text/plain": [
       "array(['Events', 'Party Place', 'Institutional', 'Bar', 'Restaurant',\n",
       "       'Sports Venue', 'Recreational', 'Beer bar', 'Hybrid',\n",
       "       'Quick Dining', 'Music Venue', 'Cocktail Bar', 'Wholesaler',\n",
       "       'Local Bar', 'Sub Agent'], dtype=object)"
      ]
     },
     "execution_count": 15,
     "metadata": {},
     "output_type": "execute_result"
    }
   ],
   "source": [
    "data.sub_segment.unique()"
   ]
  },
  {
   "cell_type": "code",
   "execution_count": 16,
   "metadata": {},
   "outputs": [
    {
     "data": {
      "text/plain": [
       "(143,)"
      ]
     },
     "execution_count": 16,
     "metadata": {},
     "output_type": "execute_result"
    }
   ],
   "source": [
    "data.Product_Set.unique().shape"
   ]
  },
  {
   "cell_type": "code",
   "execution_count": 17,
   "metadata": {},
   "outputs": [
    {
     "data": {
      "text/plain": [
       "array(['JUPILER', 'PIEDBOEUF', 'DIEKIRCH', 'BELLE VUE', 'HOEGAARDEN',\n",
       "       'LEFFE', 'TRIPEL KARMELIET', 'GOOSE ISLAND', 'STELLA ARTOIS',\n",
       "       'CORONA', 'VIEUX TEMPS', 'SCOTCH CTS', 'CUBANISTO', 'GINETTE',\n",
       "       'KWAK', 'PURE BLONDE', 'BASS', 'KRUGER', \"BECK'S\", 'HORSE ALE',\n",
       "       'GINDER-ALE', 'DEUS', 'SAFIR', 'BIRRA DEL BORGO'], dtype=object)"
      ]
     },
     "execution_count": 17,
     "metadata": {},
     "output_type": "execute_result"
    }
   ],
   "source": [
    "data.Brand.unique()"
   ]
  },
  {
   "cell_type": "code",
   "execution_count": 18,
   "metadata": {},
   "outputs": [
    {
     "data": {
      "text/plain": [
       "(65,)"
      ]
     },
     "execution_count": 18,
     "metadata": {},
     "output_type": "execute_result"
    }
   ],
   "source": [
    "data.Sub_Brand.unique().shape"
   ]
  },
  {
   "cell_type": "code",
   "execution_count": 19,
   "metadata": {},
   "outputs": [
    {
     "data": {
      "text/plain": [
       "array(['BOTTLE', 'BULK', 'KEG', 'CAN', 'PERFECTDRAFT'], dtype=object)"
      ]
     },
     "execution_count": 19,
     "metadata": {},
     "output_type": "execute_result"
    }
   ],
   "source": [
    "data.Pack_Type.unique()"
   ]
  },
  {
   "cell_type": "code",
   "execution_count": 20,
   "metadata": {},
   "outputs": [
    {
     "data": {
      "text/plain": [
       "<AxesSubplot:xlabel='Pack_Type', ylabel='count'>"
      ]
     },
     "execution_count": 20,
     "metadata": {},
     "output_type": "execute_result"
    },
    {
     "data": {
      "image/png": "[encoded data removed]",
      "text/plain": [
       "<Figure size 432x288 with 1 Axes>"
      ]
     },
     "metadata": {
      "needs_background": "light"
     },
     "output_type": "display_data"
    }
   ],
   "source": [
    "sns.countplot(x=\"Pack_Type\", data= data)"
   ]
  },
  {
   "cell_type": "code",
   "execution_count": 21,
   "metadata": {},
   "outputs": [
    {
     "data": {
      "text/plain": [
       "array(['RETURNABLE', 'OW'], dtype=object)"
      ]
     },
     "execution_count": 21,
     "metadata": {},
     "output_type": "execute_result"
    }
   ],
   "source": [
    "data.Returnalility.unique()"
   ]
  },
  {
   "cell_type": "code",
   "execution_count": 22,
   "metadata": {},
   "outputs": [
    {
     "data": {
      "text/plain": [
       "<AxesSubplot:xlabel='Returnalility', ylabel='count'>"
      ]
     },
     "execution_count": 22,
     "metadata": {},
     "output_type": "execute_result"
    },
    {
     "data": {
      "image/png": "[encoded data removed]",
      "text/plain": [
       "<Figure size 432x288 with 1 Axes>"
      ]
     },
     "metadata": {
      "needs_background": "light"
     },
     "output_type": "display_data"
    }
   ],
   "source": [
    "sns.countplot(x=\"Returnalility\", data= data)"
   ]
  },
  {
   "cell_type": "code",
   "execution_count": 23,
   "metadata": {},
   "outputs": [
    {
     "data": {
      "text/plain": [
       "array(['Brussels Capital Region', 'Antwerp', 'Namur', 'Liège', 'Limburg',\n",
       "       'Hainaut', 'East Flanders', 'Flemish Brabant', 'West Flanders',\n",
       "       'Luxembourg', 'Walloon Brabant'], dtype=object)"
      ]
     },
     "execution_count": 23,
     "metadata": {},
     "output_type": "execute_result"
    }
   ],
   "source": [
    "data.province.unique()"
   ]
  },
  {
   "cell_type": "markdown",
   "metadata": {},
   "source": [
    "Volume_2018_customer_level, Volume_2018_customer_level, OnInvoice Discount(LCU), OffInvoice Discount(LCU), Volume_2019,Tax and Discount_Total have continuous values."
   ]
  },
  {
   "cell_type": "code",
   "execution_count": 24,
   "metadata": {},
   "outputs": [
    {
     "data": {
      "text/html": [
       "<div>\n",
       "<style scoped>\n",
       "    .dataframe tbody tr th:only-of-type {\n",
       "        vertical-align: middle;\n",
       "    }\n",
       "\n",
       "    .dataframe tbody tr th {\n",
       "        vertical-align: top;\n",
       "    }\n",
       "\n",
       "    .dataframe thead th {\n",
       "        text-align: right;\n",
       "    }\n",
       "</style>\n",
       "<table border=\"1\" class=\"dataframe\">\n",
       "  <thead>\n",
       "    <tr style=\"text-align: right;\">\n",
       "      <th></th>\n",
       "      <th>Volume_2019_customer_level</th>\n",
       "      <th>Volume_2018_customer_level</th>\n",
       "      <th>sfdc_tier</th>\n",
       "      <th>segment</th>\n",
       "      <th>sub_segment</th>\n",
       "      <th>Product_Set</th>\n",
       "      <th>Brand</th>\n",
       "      <th>Sub_Brand</th>\n",
       "      <th>Pack_Type</th>\n",
       "      <th>GTO_2019</th>\n",
       "      <th>OnInvoice Discount(LCU)</th>\n",
       "      <th>OffInvoice Discount(LCU)</th>\n",
       "      <th>Volume_2019</th>\n",
       "      <th>Tax</th>\n",
       "      <th>province</th>\n",
       "      <th>Discount_Total</th>\n",
       "      <th>Premium</th>\n",
       "      <th>Tier 1</th>\n",
       "      <th>Tier 2</th>\n",
       "      <th>RETURNABLE</th>\n",
       "    </tr>\n",
       "  </thead>\n",
       "  <tbody>\n",
       "    <tr>\n",
       "      <th>0</th>\n",
       "      <td>0.48</td>\n",
       "      <td>0.557</td>\n",
       "      <td>Tier 0</td>\n",
       "      <td>Entertainment Led</td>\n",
       "      <td>Events</td>\n",
       "      <td>RETURNABLE_BOTTLE_JUPILER_JUPILER PILS</td>\n",
       "      <td>JUPILER</td>\n",
       "      <td>JUPILER PILS</td>\n",
       "      <td>BOTTLE</td>\n",
       "      <td>141.20</td>\n",
       "      <td>0.00</td>\n",
       "      <td>0.0</td>\n",
       "      <td>0.48</td>\n",
       "      <td>12.23</td>\n",
       "      <td>Brussels Capital Region</td>\n",
       "      <td>0.00</td>\n",
       "      <td>0</td>\n",
       "      <td>0</td>\n",
       "      <td>0</td>\n",
       "      <td>1</td>\n",
       "    </tr>\n",
       "    <tr>\n",
       "      <th>2</th>\n",
       "      <td>270.97</td>\n",
       "      <td>225.720</td>\n",
       "      <td>Tier 1</td>\n",
       "      <td>Drink Led</td>\n",
       "      <td>Party Place</td>\n",
       "      <td>OW_BULK_JUPILER_JUPILER PILS</td>\n",
       "      <td>JUPILER</td>\n",
       "      <td>JUPILER PILS</td>\n",
       "      <td>BULK</td>\n",
       "      <td>61551.06</td>\n",
       "      <td>14511.46</td>\n",
       "      <td>0.0</td>\n",
       "      <td>238.57</td>\n",
       "      <td>3577.69</td>\n",
       "      <td>Antwerp</td>\n",
       "      <td>14511.46</td>\n",
       "      <td>0</td>\n",
       "      <td>1</td>\n",
       "      <td>0</td>\n",
       "      <td>0</td>\n",
       "    </tr>\n",
       "    <tr>\n",
       "      <th>3</th>\n",
       "      <td>270.97</td>\n",
       "      <td>225.720</td>\n",
       "      <td>Tier 1</td>\n",
       "      <td>Drink Led</td>\n",
       "      <td>Party Place</td>\n",
       "      <td>RETURNABLE_BOTTLE_JUPILER_JUPILER PILS</td>\n",
       "      <td>JUPILER</td>\n",
       "      <td>JUPILER PILS</td>\n",
       "      <td>BOTTLE</td>\n",
       "      <td>6001.00</td>\n",
       "      <td>1425.19</td>\n",
       "      <td>180.0</td>\n",
       "      <td>20.40</td>\n",
       "      <td>519.41</td>\n",
       "      <td>Antwerp</td>\n",
       "      <td>1605.19</td>\n",
       "      <td>0</td>\n",
       "      <td>1</td>\n",
       "      <td>0</td>\n",
       "      <td>1</td>\n",
       "    </tr>\n",
       "    <tr>\n",
       "      <th>4</th>\n",
       "      <td>270.97</td>\n",
       "      <td>225.720</td>\n",
       "      <td>Tier 1</td>\n",
       "      <td>Drink Led</td>\n",
       "      <td>Party Place</td>\n",
       "      <td>RETURNABLE_KEG_JUPILER_JUPILER PILS</td>\n",
       "      <td>JUPILER</td>\n",
       "      <td>JUPILER PILS</td>\n",
       "      <td>KEG</td>\n",
       "      <td>3051.36</td>\n",
       "      <td>718.32</td>\n",
       "      <td>0.0</td>\n",
       "      <td>12.00</td>\n",
       "      <td>288.63</td>\n",
       "      <td>Antwerp</td>\n",
       "      <td>718.32</td>\n",
       "      <td>0</td>\n",
       "      <td>1</td>\n",
       "      <td>0</td>\n",
       "      <td>1</td>\n",
       "    </tr>\n",
       "    <tr>\n",
       "      <th>5</th>\n",
       "      <td>29.61</td>\n",
       "      <td>25.860</td>\n",
       "      <td>Tier 2</td>\n",
       "      <td>Institutional</td>\n",
       "      <td>Institutional</td>\n",
       "      <td>RETURNABLE_BOTTLE_JUPILER_JUPILER 0,0</td>\n",
       "      <td>JUPILER</td>\n",
       "      <td>JUPILER 0,0</td>\n",
       "      <td>BOTTLE</td>\n",
       "      <td>104.10</td>\n",
       "      <td>0.00</td>\n",
       "      <td>0.0</td>\n",
       "      <td>0.30</td>\n",
       "      <td>1.55</td>\n",
       "      <td>Namur</td>\n",
       "      <td>0.00</td>\n",
       "      <td>0</td>\n",
       "      <td>0</td>\n",
       "      <td>1</td>\n",
       "      <td>1</td>\n",
       "    </tr>\n",
       "  </tbody>\n",
       "</table>\n",
       "</div>"
      ],
      "text/plain": [
       "   Volume_2019_customer_level  Volume_2018_customer_level sfdc_tier  \\\n",
       "0                        0.48                       0.557    Tier 0   \n",
       "2                      270.97                     225.720    Tier 1   \n",
       "3                      270.97                     225.720    Tier 1   \n",
       "4                      270.97                     225.720    Tier 1   \n",
       "5                       29.61                      25.860    Tier 2   \n",
       "\n",
       "             segment    sub_segment                             Product_Set  \\\n",
       "0  Entertainment Led         Events  RETURNABLE_BOTTLE_JUPILER_JUPILER PILS   \n",
       "2          Drink Led    Party Place            OW_BULK_JUPILER_JUPILER PILS   \n",
       "3          Drink Led    Party Place  RETURNABLE_BOTTLE_JUPILER_JUPILER PILS   \n",
       "4          Drink Led    Party Place     RETURNABLE_KEG_JUPILER_JUPILER PILS   \n",
       "5      Institutional  Institutional   RETURNABLE_BOTTLE_JUPILER_JUPILER 0,0   \n",
       "\n",
       "     Brand     Sub_Brand Pack_Type  GTO_2019  OnInvoice Discount(LCU)  \\\n",
       "0  JUPILER  JUPILER PILS    BOTTLE    141.20                     0.00   \n",
       "2  JUPILER  JUPILER PILS      BULK  61551.06                 14511.46   \n",
       "3  JUPILER  JUPILER PILS    BOTTLE   6001.00                  1425.19   \n",
       "4  JUPILER  JUPILER PILS       KEG   3051.36                   718.32   \n",
       "5  JUPILER   JUPILER 0,0    BOTTLE    104.10                     0.00   \n",
       "\n",
       "   OffInvoice Discount(LCU)  Volume_2019      Tax                 province  \\\n",
       "0                       0.0         0.48    12.23  Brussels Capital Region   \n",
       "2                       0.0       238.57  3577.69                  Antwerp   \n",
       "3                     180.0        20.40   519.41                  Antwerp   \n",
       "4                       0.0        12.00   288.63                  Antwerp   \n",
       "5                       0.0         0.30     1.55                    Namur   \n",
       "\n",
       "   Discount_Total  Premium  Tier 1  Tier 2  RETURNABLE  \n",
       "0            0.00        0       0       0           1  \n",
       "2        14511.46        0       1       0           0  \n",
       "3         1605.19        0       1       0           1  \n",
       "4          718.32        0       1       0           1  \n",
       "5            0.00        0       0       1           1  "
      ]
     },
     "execution_count": 24,
     "metadata": {},
     "output_type": "execute_result"
    }
   ],
   "source": [
    "# feature processing\n",
    "\n",
    "poc_image = pd.get_dummies(data['poc_image'], drop_first = True)\n",
    "# 0 corresponds to mainstream, 1 corresponds to premium\n",
    "\n",
    "sfdc_tier = pd.get_dummies(data['sfdc_tier'], drop_first = True)\n",
    "# 0 0 corresponds to tier 3\n",
    "\n",
    "Returnalility= pd.get_dummies(data['Returnalility'], drop_first = True)\n",
    "# 1 corresponds to returnable, 0 corresponds to OW\n",
    "\n",
    "data= pd.concat([data, poc_image, sfdc_tier, Returnalility], axis = 1)\n",
    "data.drop([ 'poc_image', 'Returnalility'], axis =1, inplace = True)\n",
    "data.head()"
   ]
  },
  {
   "cell_type": "markdown",
   "metadata": {},
   "source": [
    "We would like to add another column which determines the change in the consumption by the consumer.\n",
    "Also, we will like to specially identify the new customers, i.e have \"Volume_2018_customer_level = 0\"\n"
   ]
  },
  {
   "cell_type": "code",
   "execution_count": 25,
   "metadata": {
    "scrolled": false
   },
   "outputs": [
    {
     "data": {
      "text/html": [
       "<div>\n",
       "<style scoped>\n",
       "    .dataframe tbody tr th:only-of-type {\n",
       "        vertical-align: middle;\n",
       "    }\n",
       "\n",
       "    .dataframe tbody tr th {\n",
       "        vertical-align: top;\n",
       "    }\n",
       "\n",
       "    .dataframe thead th {\n",
       "        text-align: right;\n",
       "    }\n",
       "</style>\n",
       "<table border=\"1\" class=\"dataframe\">\n",
       "  <thead>\n",
       "    <tr style=\"text-align: right;\">\n",
       "      <th></th>\n",
       "      <th>New_customer</th>\n",
       "      <th>Difference</th>\n",
       "      <th>sfdc_tier</th>\n",
       "      <th>segment</th>\n",
       "      <th>sub_segment</th>\n",
       "      <th>Product_Set</th>\n",
       "      <th>Brand</th>\n",
       "      <th>Sub_Brand</th>\n",
       "      <th>Pack_Type</th>\n",
       "      <th>GTO_2019</th>\n",
       "      <th>OnInvoice Discount(LCU)</th>\n",
       "      <th>OffInvoice Discount(LCU)</th>\n",
       "      <th>Volume_2019</th>\n",
       "      <th>Tax</th>\n",
       "      <th>province</th>\n",
       "      <th>Discount_Total</th>\n",
       "      <th>Premium</th>\n",
       "      <th>Tier 1</th>\n",
       "      <th>Tier 2</th>\n",
       "      <th>RETURNABLE</th>\n",
       "    </tr>\n",
       "  </thead>\n",
       "  <tbody>\n",
       "    <tr>\n",
       "      <th>0</th>\n",
       "      <td>0</td>\n",
       "      <td>-0.077</td>\n",
       "      <td>Tier 0</td>\n",
       "      <td>Entertainment Led</td>\n",
       "      <td>Events</td>\n",
       "      <td>RETURNABLE_BOTTLE_JUPILER_JUPILER PILS</td>\n",
       "      <td>JUPILER</td>\n",
       "      <td>JUPILER PILS</td>\n",
       "      <td>BOTTLE</td>\n",
       "      <td>141.20</td>\n",
       "      <td>0.00</td>\n",
       "      <td>0.0</td>\n",
       "      <td>0.48</td>\n",
       "      <td>12.23</td>\n",
       "      <td>Brussels Capital Region</td>\n",
       "      <td>0.00</td>\n",
       "      <td>0</td>\n",
       "      <td>0</td>\n",
       "      <td>0</td>\n",
       "      <td>1</td>\n",
       "    </tr>\n",
       "    <tr>\n",
       "      <th>2</th>\n",
       "      <td>0</td>\n",
       "      <td>45.250</td>\n",
       "      <td>Tier 1</td>\n",
       "      <td>Drink Led</td>\n",
       "      <td>Party Place</td>\n",
       "      <td>OW_BULK_JUPILER_JUPILER PILS</td>\n",
       "      <td>JUPILER</td>\n",
       "      <td>JUPILER PILS</td>\n",
       "      <td>BULK</td>\n",
       "      <td>61551.06</td>\n",
       "      <td>14511.46</td>\n",
       "      <td>0.0</td>\n",
       "      <td>238.57</td>\n",
       "      <td>3577.69</td>\n",
       "      <td>Antwerp</td>\n",
       "      <td>14511.46</td>\n",
       "      <td>0</td>\n",
       "      <td>1</td>\n",
       "      <td>0</td>\n",
       "      <td>0</td>\n",
       "    </tr>\n",
       "    <tr>\n",
       "      <th>3</th>\n",
       "      <td>0</td>\n",
       "      <td>45.250</td>\n",
       "      <td>Tier 1</td>\n",
       "      <td>Drink Led</td>\n",
       "      <td>Party Place</td>\n",
       "      <td>RETURNABLE_BOTTLE_JUPILER_JUPILER PILS</td>\n",
       "      <td>JUPILER</td>\n",
       "      <td>JUPILER PILS</td>\n",
       "      <td>BOTTLE</td>\n",
       "      <td>6001.00</td>\n",
       "      <td>1425.19</td>\n",
       "      <td>180.0</td>\n",
       "      <td>20.40</td>\n",
       "      <td>519.41</td>\n",
       "      <td>Antwerp</td>\n",
       "      <td>1605.19</td>\n",
       "      <td>0</td>\n",
       "      <td>1</td>\n",
       "      <td>0</td>\n",
       "      <td>1</td>\n",
       "    </tr>\n",
       "    <tr>\n",
       "      <th>4</th>\n",
       "      <td>0</td>\n",
       "      <td>45.250</td>\n",
       "      <td>Tier 1</td>\n",
       "      <td>Drink Led</td>\n",
       "      <td>Party Place</td>\n",
       "      <td>RETURNABLE_KEG_JUPILER_JUPILER PILS</td>\n",
       "      <td>JUPILER</td>\n",
       "      <td>JUPILER PILS</td>\n",
       "      <td>KEG</td>\n",
       "      <td>3051.36</td>\n",
       "      <td>718.32</td>\n",
       "      <td>0.0</td>\n",
       "      <td>12.00</td>\n",
       "      <td>288.63</td>\n",
       "      <td>Antwerp</td>\n",
       "      <td>718.32</td>\n",
       "      <td>0</td>\n",
       "      <td>1</td>\n",
       "      <td>0</td>\n",
       "      <td>1</td>\n",
       "    </tr>\n",
       "    <tr>\n",
       "      <th>5</th>\n",
       "      <td>0</td>\n",
       "      <td>3.750</td>\n",
       "      <td>Tier 2</td>\n",
       "      <td>Institutional</td>\n",
       "      <td>Institutional</td>\n",
       "      <td>RETURNABLE_BOTTLE_JUPILER_JUPILER 0,0</td>\n",
       "      <td>JUPILER</td>\n",
       "      <td>JUPILER 0,0</td>\n",
       "      <td>BOTTLE</td>\n",
       "      <td>104.10</td>\n",
       "      <td>0.00</td>\n",
       "      <td>0.0</td>\n",
       "      <td>0.30</td>\n",
       "      <td>1.55</td>\n",
       "      <td>Namur</td>\n",
       "      <td>0.00</td>\n",
       "      <td>0</td>\n",
       "      <td>0</td>\n",
       "      <td>1</td>\n",
       "      <td>1</td>\n",
       "    </tr>\n",
       "  </tbody>\n",
       "</table>\n",
       "</div>"
      ],
      "text/plain": [
       "   New_customer  Difference sfdc_tier            segment    sub_segment  \\\n",
       "0             0      -0.077    Tier 0  Entertainment Led         Events   \n",
       "2             0      45.250    Tier 1          Drink Led    Party Place   \n",
       "3             0      45.250    Tier 1          Drink Led    Party Place   \n",
       "4             0      45.250    Tier 1          Drink Led    Party Place   \n",
       "5             0       3.750    Tier 2      Institutional  Institutional   \n",
       "\n",
       "                              Product_Set    Brand     Sub_Brand Pack_Type  \\\n",
       "0  RETURNABLE_BOTTLE_JUPILER_JUPILER PILS  JUPILER  JUPILER PILS    BOTTLE   \n",
       "2            OW_BULK_JUPILER_JUPILER PILS  JUPILER  JUPILER PILS      BULK   \n",
       "3  RETURNABLE_BOTTLE_JUPILER_JUPILER PILS  JUPILER  JUPILER PILS    BOTTLE   \n",
       "4     RETURNABLE_KEG_JUPILER_JUPILER PILS  JUPILER  JUPILER PILS       KEG   \n",
       "5   RETURNABLE_BOTTLE_JUPILER_JUPILER 0,0  JUPILER   JUPILER 0,0    BOTTLE   \n",
       "\n",
       "   GTO_2019  OnInvoice Discount(LCU)  OffInvoice Discount(LCU)  Volume_2019  \\\n",
       "0    141.20                     0.00                       0.0         0.48   \n",
       "2  61551.06                 14511.46                       0.0       238.57   \n",
       "3   6001.00                  1425.19                     180.0        20.40   \n",
       "4   3051.36                   718.32                       0.0        12.00   \n",
       "5    104.10                     0.00                       0.0         0.30   \n",
       "\n",
       "       Tax                 province  Discount_Total  Premium  Tier 1  Tier 2  \\\n",
       "0    12.23  Brussels Capital Region            0.00        0       0       0   \n",
       "2  3577.69                  Antwerp        14511.46        0       1       0   \n",
       "3   519.41                  Antwerp         1605.19        0       1       0   \n",
       "4   288.63                  Antwerp          718.32        0       1       0   \n",
       "5     1.55                    Namur            0.00        0       0       1   \n",
       "\n",
       "   RETURNABLE  \n",
       "0           1  \n",
       "2           0  \n",
       "3           1  \n",
       "4           1  \n",
       "5           1  "
      ]
     },
     "execution_count": 25,
     "metadata": {},
     "output_type": "execute_result"
    }
   ],
   "source": [
    "diff = (data.Volume_2019_customer_level - data.Volume_2018_customer_level)*1\n",
    "data.insert(2, \"Difference\", diff, True)\n",
    "\n",
    "new_customer = (data.Volume_2018_customer_level==0)*1\n",
    "data.insert(2, \"New_customer\", new_customer, True)\n",
    "\n",
    "data.drop(['Volume_2019_customer_level', 'Volume_2018_customer_level'], axis = 1, inplace = True)\n",
    "\n",
    "data.head()"
   ]
  },
  {
   "cell_type": "code",
   "execution_count": 26,
   "metadata": {},
   "outputs": [],
   "source": [
    "data.drop(['OnInvoice Discount(LCU)', 'OffInvoice Discount(LCU)'], axis = 1, inplace = True)\n",
    "\n",
    "#Since we are only calculating only total_discount for now"
   ]
  },
  {
   "cell_type": "code",
   "execution_count": 27,
   "metadata": {},
   "outputs": [
    {
     "data": {
      "text/html": [
       "<div>\n",
       "<style scoped>\n",
       "    .dataframe tbody tr th:only-of-type {\n",
       "        vertical-align: middle;\n",
       "    }\n",
       "\n",
       "    .dataframe tbody tr th {\n",
       "        vertical-align: top;\n",
       "    }\n",
       "\n",
       "    .dataframe thead th {\n",
       "        text-align: right;\n",
       "    }\n",
       "</style>\n",
       "<table border=\"1\" class=\"dataframe\">\n",
       "  <thead>\n",
       "    <tr style=\"text-align: right;\">\n",
       "      <th></th>\n",
       "      <th>New_customer</th>\n",
       "      <th>Difference</th>\n",
       "      <th>sfdc_tier</th>\n",
       "      <th>segment</th>\n",
       "      <th>sub_segment</th>\n",
       "      <th>Product_Set</th>\n",
       "      <th>Brand</th>\n",
       "      <th>Sub_Brand</th>\n",
       "      <th>Pack_Type</th>\n",
       "      <th>GTO_2019</th>\n",
       "      <th>Volume_2019</th>\n",
       "      <th>Tax</th>\n",
       "      <th>province</th>\n",
       "      <th>Discount_Total</th>\n",
       "      <th>Premium</th>\n",
       "      <th>Tier 1</th>\n",
       "      <th>Tier 2</th>\n",
       "      <th>RETURNABLE</th>\n",
       "    </tr>\n",
       "  </thead>\n",
       "  <tbody>\n",
       "    <tr>\n",
       "      <th>0</th>\n",
       "      <td>0</td>\n",
       "      <td>-0.077</td>\n",
       "      <td>Tier 0</td>\n",
       "      <td>Entertainment Led</td>\n",
       "      <td>Events</td>\n",
       "      <td>RETURNABLE_BOTTLE_JUPILER_JUPILER PILS</td>\n",
       "      <td>JUPILER</td>\n",
       "      <td>JUPILER PILS</td>\n",
       "      <td>BOTTLE</td>\n",
       "      <td>141.20</td>\n",
       "      <td>0.48</td>\n",
       "      <td>12.23</td>\n",
       "      <td>Brussels Capital Region</td>\n",
       "      <td>0.00</td>\n",
       "      <td>0</td>\n",
       "      <td>0</td>\n",
       "      <td>0</td>\n",
       "      <td>1</td>\n",
       "    </tr>\n",
       "    <tr>\n",
       "      <th>2</th>\n",
       "      <td>0</td>\n",
       "      <td>45.250</td>\n",
       "      <td>Tier 1</td>\n",
       "      <td>Drink Led</td>\n",
       "      <td>Party Place</td>\n",
       "      <td>OW_BULK_JUPILER_JUPILER PILS</td>\n",
       "      <td>JUPILER</td>\n",
       "      <td>JUPILER PILS</td>\n",
       "      <td>BULK</td>\n",
       "      <td>61551.06</td>\n",
       "      <td>238.57</td>\n",
       "      <td>3577.69</td>\n",
       "      <td>Antwerp</td>\n",
       "      <td>14511.46</td>\n",
       "      <td>0</td>\n",
       "      <td>1</td>\n",
       "      <td>0</td>\n",
       "      <td>0</td>\n",
       "    </tr>\n",
       "    <tr>\n",
       "      <th>3</th>\n",
       "      <td>0</td>\n",
       "      <td>45.250</td>\n",
       "      <td>Tier 1</td>\n",
       "      <td>Drink Led</td>\n",
       "      <td>Party Place</td>\n",
       "      <td>RETURNABLE_BOTTLE_JUPILER_JUPILER PILS</td>\n",
       "      <td>JUPILER</td>\n",
       "      <td>JUPILER PILS</td>\n",
       "      <td>BOTTLE</td>\n",
       "      <td>6001.00</td>\n",
       "      <td>20.40</td>\n",
       "      <td>519.41</td>\n",
       "      <td>Antwerp</td>\n",
       "      <td>1605.19</td>\n",
       "      <td>0</td>\n",
       "      <td>1</td>\n",
       "      <td>0</td>\n",
       "      <td>1</td>\n",
       "    </tr>\n",
       "    <tr>\n",
       "      <th>4</th>\n",
       "      <td>0</td>\n",
       "      <td>45.250</td>\n",
       "      <td>Tier 1</td>\n",
       "      <td>Drink Led</td>\n",
       "      <td>Party Place</td>\n",
       "      <td>RETURNABLE_KEG_JUPILER_JUPILER PILS</td>\n",
       "      <td>JUPILER</td>\n",
       "      <td>JUPILER PILS</td>\n",
       "      <td>KEG</td>\n",
       "      <td>3051.36</td>\n",
       "      <td>12.00</td>\n",
       "      <td>288.63</td>\n",
       "      <td>Antwerp</td>\n",
       "      <td>718.32</td>\n",
       "      <td>0</td>\n",
       "      <td>1</td>\n",
       "      <td>0</td>\n",
       "      <td>1</td>\n",
       "    </tr>\n",
       "    <tr>\n",
       "      <th>5</th>\n",
       "      <td>0</td>\n",
       "      <td>3.750</td>\n",
       "      <td>Tier 2</td>\n",
       "      <td>Institutional</td>\n",
       "      <td>Institutional</td>\n",
       "      <td>RETURNABLE_BOTTLE_JUPILER_JUPILER 0,0</td>\n",
       "      <td>JUPILER</td>\n",
       "      <td>JUPILER 0,0</td>\n",
       "      <td>BOTTLE</td>\n",
       "      <td>104.10</td>\n",
       "      <td>0.30</td>\n",
       "      <td>1.55</td>\n",
       "      <td>Namur</td>\n",
       "      <td>0.00</td>\n",
       "      <td>0</td>\n",
       "      <td>0</td>\n",
       "      <td>1</td>\n",
       "      <td>1</td>\n",
       "    </tr>\n",
       "  </tbody>\n",
       "</table>\n",
       "</div>"
      ],
      "text/plain": [
       "   New_customer  Difference sfdc_tier            segment    sub_segment  \\\n",
       "0             0      -0.077    Tier 0  Entertainment Led         Events   \n",
       "2             0      45.250    Tier 1          Drink Led    Party Place   \n",
       "3             0      45.250    Tier 1          Drink Led    Party Place   \n",
       "4             0      45.250    Tier 1          Drink Led    Party Place   \n",
       "5             0       3.750    Tier 2      Institutional  Institutional   \n",
       "\n",
       "                              Product_Set    Brand     Sub_Brand Pack_Type  \\\n",
       "0  RETURNABLE_BOTTLE_JUPILER_JUPILER PILS  JUPILER  JUPILER PILS    BOTTLE   \n",
       "2            OW_BULK_JUPILER_JUPILER PILS  JUPILER  JUPILER PILS      BULK   \n",
       "3  RETURNABLE_BOTTLE_JUPILER_JUPILER PILS  JUPILER  JUPILER PILS    BOTTLE   \n",
       "4     RETURNABLE_KEG_JUPILER_JUPILER PILS  JUPILER  JUPILER PILS       KEG   \n",
       "5   RETURNABLE_BOTTLE_JUPILER_JUPILER 0,0  JUPILER   JUPILER 0,0    BOTTLE   \n",
       "\n",
       "   GTO_2019  Volume_2019      Tax                 province  Discount_Total  \\\n",
       "0    141.20         0.48    12.23  Brussels Capital Region            0.00   \n",
       "2  61551.06       238.57  3577.69                  Antwerp        14511.46   \n",
       "3   6001.00        20.40   519.41                  Antwerp         1605.19   \n",
       "4   3051.36        12.00   288.63                  Antwerp          718.32   \n",
       "5    104.10         0.30     1.55                    Namur            0.00   \n",
       "\n",
       "   Premium  Tier 1  Tier 2  RETURNABLE  \n",
       "0        0       0       0           1  \n",
       "2        0       1       0           0  \n",
       "3        0       1       0           1  \n",
       "4        0       1       0           1  \n",
       "5        0       0       1           1  "
      ]
     },
     "execution_count": 27,
     "metadata": {},
     "output_type": "execute_result"
    }
   ],
   "source": [
    "data.head()"
   ]
  },
  {
   "cell_type": "code",
   "execution_count": 28,
   "metadata": {},
   "outputs": [
    {
     "data": {
      "text/plain": [
       "<AxesSubplot:>"
      ]
     },
     "execution_count": 28,
     "metadata": {},
     "output_type": "execute_result"
    },
    {
     "data": {
      "image/png": "[encoded data removed]",
      "text/plain": [
       "<Figure size 432x288 with 2 Axes>"
      ]
     },
     "metadata": {
      "needs_background": "light"
     },
     "output_type": "display_data"
    }
   ],
   "source": [
    "#We can analyse the relationship between the parameters through corelation\n",
    "\n",
    "corelation = data.corr()\n",
    "sns.heatmap(corelation, xticklabels= corelation.columns, yticklabels = corelation.columns, annot = True)"
   ]
  },
  {
   "cell_type": "code",
   "execution_count": 29,
   "metadata": {},
   "outputs": [
    {
     "data": {
      "image/png": "[encoded data removed]",
      "text/plain": [
       "<Figure size 432x288 with 1 Axes>"
      ]
     },
     "metadata": {
      "needs_background": "light"
     },
     "output_type": "display_data"
    },
    {
     "data": {
      "image/png": "[encoded data removed]",
      "text/plain": [
       "<Figure size 432x288 with 1 Axes>"
      ]
     },
     "metadata": {
      "needs_background": "light"
     },
     "output_type": "display_data"
    },
    {
     "data": {
      "image/png": "[encoded data removed]",
      "text/plain": [
       "<Figure size 432x288 with 1 Axes>"
      ]
     },
     "metadata": {
      "needs_background": "light"
     },
     "output_type": "display_data"
    }
   ],
   "source": [
    "#observing the relationship between Volume_2019, Discount_Total and GTO_2019\n",
    "\n",
    "n= data.shape[0] + 1\n",
    "\n",
    "x = list(range(1, n))\n",
    "y = data.Volume_2019\n",
    "plt.plot(x, y) \n",
    "plt.xlabel('Serial Number')\n",
    "plt.ylabel('Volume_2019')\n",
    "plt.show()\n",
    "\n",
    "x = list(range(1, n))\n",
    "y = data.Discount_Total \n",
    "plt.plot(x, y) \n",
    "plt.xlabel('Serial Number')\n",
    "plt.ylabel('Discount_Total')\n",
    "plt.show()\n",
    "\n",
    "\n",
    "x = list(range(1, n))\n",
    "y = data.GTO_2019\n",
    "plt.plot(x, y)\n",
    "plt.xlabel('Serial Number')\n",
    "plt.ylabel('GTO_2019')\n",
    "plt.show()"
   ]
  },
  {
   "cell_type": "markdown",
   "metadata": {},
   "source": [
    "We can clearly see that the shape of the graphs is very similar, which indicates that they have a linear relationship."
   ]
  },
  {
   "cell_type": "code",
   "execution_count": 30,
   "metadata": {},
   "outputs": [],
   "source": [
    "data = data.loc[data[\"Volume_2019\"] != 0]\n",
    "\n",
    "GTO_per_unit_vol = data.GTO_2019 / data.Volume_2019\n",
    "data.insert(2, \"GTO_per_unit_vol\", GTO_per_unit_vol, True)\n",
    "data.head()\n",
    "\n",
    "data.drop(['Volume_2019', 'GTO_2019'], inplace= True, axis = 1)"
   ]
  },
  {
   "cell_type": "code",
   "execution_count": 31,
   "metadata": {},
   "outputs": [
    {
     "data": {
      "image/png": "[encoded data removed]",
      "text/plain": [
       "<Figure size 432x288 with 1 Axes>"
      ]
     },
     "metadata": {
      "needs_background": "light"
     },
     "output_type": "display_data"
    }
   ],
   "source": [
    "n = data.shape[0] + 1\n",
    "# x axis values\n",
    "x = list(range(1, n))\n",
    "# corresponding y axis values\n",
    "y = data.GTO_per_unit_vol\n",
    " \n",
    "\n",
    "plt.ylim([-40000, 25000])\n",
    "\n",
    "# plotting the points\n",
    "plt.plot(x, y)\n",
    " \n",
    "# naming the x axis\n",
    "plt.xlabel('Serial Number')\n",
    "# naming the y axis\n",
    "plt.ylabel('GTO_per_unit_vol')\n",
    " \n",
    "# function to show the plot\n",
    "plt.show()"
   ]
  },
  {
   "cell_type": "markdown",
   "metadata": {},
   "source": [
    "We need to maximise the GTO/Volume, so we can omit the negative values."
   ]
  },
  {
   "cell_type": "code",
   "execution_count": 32,
   "metadata": {},
   "outputs": [
    {
     "data": {
      "text/plain": [
       "(39328, 17)"
      ]
     },
     "execution_count": 32,
     "metadata": {},
     "output_type": "execute_result"
    }
   ],
   "source": [
    "data = data.loc[data[\"GTO_per_unit_vol\"] > 0]\n",
    "data.shape"
   ]
  },
  {
   "cell_type": "code",
   "execution_count": 33,
   "metadata": {},
   "outputs": [
    {
     "data": {
      "image/png": "[encoded data removed]",
      "text/plain": [
       "<Figure size 432x288 with 1 Axes>"
      ]
     },
     "metadata": {
      "needs_background": "light"
     },
     "output_type": "display_data"
    }
   ],
   "source": [
    "n = data.shape[0] + 1\n",
    "# x axis values\n",
    "x = list(range(1, n))\n",
    "# corresponding y axis values\n",
    "y = data.GTO_per_unit_vol\n",
    " \n",
    "\n",
    "plt.ylim([0, 25000])\n",
    "\n",
    "# plotting the points\n",
    "plt.plot(x, y)\n",
    " \n",
    "# naming the x axis\n",
    "plt.xlabel('Serial Number')\n",
    "# naming the y axis\n",
    "plt.ylabel('GTO_per_unit_vol')\n",
    " \n",
    "# function to show the plot\n",
    "plt.show()"
   ]
  },
  {
   "cell_type": "markdown",
   "metadata": {},
   "source": [
    "Clearly, there are some outliers which we have to figure out."
   ]
  },
  {
   "cell_type": "code",
   "execution_count": 34,
   "metadata": {},
   "outputs": [
    {
     "data": {
      "text/plain": [
       "1"
      ]
     },
     "execution_count": 34,
     "metadata": {},
     "output_type": "execute_result"
    }
   ],
   "source": [
    "(data.GTO_per_unit_vol>=5000).sum()"
   ]
  },
  {
   "cell_type": "code",
   "execution_count": 35,
   "metadata": {},
   "outputs": [],
   "source": [
    "data = data.loc[data[\"GTO_per_unit_vol\"] < 5000]"
   ]
  },
  {
   "cell_type": "code",
   "execution_count": 36,
   "metadata": {},
   "outputs": [
    {
     "data": {
      "image/png": "[encoded data removed]",
      "text/plain": [
       "<Figure size 432x288 with 1 Axes>"
      ]
     },
     "metadata": {
      "needs_background": "light"
     },
     "output_type": "display_data"
    }
   ],
   "source": [
    "n = data.shape[0] + 1\n",
    "# x axis values\n",
    "x = list(range(1, n))\n",
    "# corresponding y axis values\n",
    "y = data.GTO_per_unit_vol\n",
    " \n",
    "\n",
    "plt.ylim([0, 2800])\n",
    "\n",
    "# plotting the points\n",
    "plt.plot(x, y)\n",
    " \n",
    "# naming the x axis\n",
    "plt.xlabel('Serial Number')\n",
    "# naming the y axis\n",
    "plt.ylabel('GTO_per_unit_vol')\n",
    " \n",
    "# function to show the plot\n",
    "plt.show()"
   ]
  },
  {
   "cell_type": "code",
   "execution_count": 37,
   "metadata": {},
   "outputs": [
    {
     "data": {
      "text/plain": [
       "(982, 17)"
      ]
     },
     "execution_count": 37,
     "metadata": {},
     "output_type": "execute_result"
    }
   ],
   "source": [
    "data_high = data.loc[data[\"GTO_per_unit_vol\"] > 500]\n",
    "data_high.shape"
   ]
  },
  {
   "cell_type": "markdown",
   "metadata": {},
   "source": [
    "Lets observe the high GTO/Vol values"
   ]
  },
  {
   "cell_type": "code",
   "execution_count": 38,
   "metadata": {
    "scrolled": true
   },
   "outputs": [
    {
     "data": {
      "text/html": [
       "<div>\n",
       "<style scoped>\n",
       "    .dataframe tbody tr th:only-of-type {\n",
       "        vertical-align: middle;\n",
       "    }\n",
       "\n",
       "    .dataframe tbody tr th {\n",
       "        vertical-align: top;\n",
       "    }\n",
       "\n",
       "    .dataframe thead th {\n",
       "        text-align: right;\n",
       "    }\n",
       "</style>\n",
       "<table border=\"1\" class=\"dataframe\">\n",
       "  <thead>\n",
       "    <tr style=\"text-align: right;\">\n",
       "      <th></th>\n",
       "      <th>New_customer</th>\n",
       "      <th>Difference</th>\n",
       "      <th>GTO_per_unit_vol</th>\n",
       "      <th>sfdc_tier</th>\n",
       "      <th>segment</th>\n",
       "      <th>sub_segment</th>\n",
       "      <th>Product_Set</th>\n",
       "      <th>Brand</th>\n",
       "      <th>Sub_Brand</th>\n",
       "      <th>Pack_Type</th>\n",
       "      <th>Tax</th>\n",
       "      <th>province</th>\n",
       "      <th>Discount_Total</th>\n",
       "      <th>Premium</th>\n",
       "      <th>Tier 1</th>\n",
       "      <th>Tier 2</th>\n",
       "      <th>RETURNABLE</th>\n",
       "    </tr>\n",
       "  </thead>\n",
       "  <tbody>\n",
       "    <tr>\n",
       "      <th>179</th>\n",
       "      <td>0</td>\n",
       "      <td>-21.729</td>\n",
       "      <td>520.444444</td>\n",
       "      <td>Tier 1</td>\n",
       "      <td>Institutional</td>\n",
       "      <td>Institutional</td>\n",
       "      <td>RETURNABLE_BOTTLE_BELLE VUE_BELLE VUE EXTRA KRIEK</td>\n",
       "      <td>BELLE VUE</td>\n",
       "      <td>BELLE VUE EXTRA KRIEK</td>\n",
       "      <td>BOTTLE</td>\n",
       "      <td>10.70</td>\n",
       "      <td>Flemish Brabant</td>\n",
       "      <td>-0.30</td>\n",
       "      <td>0</td>\n",
       "      <td>1</td>\n",
       "      <td>0</td>\n",
       "      <td>1</td>\n",
       "    </tr>\n",
       "    <tr>\n",
       "      <th>329</th>\n",
       "      <td>0</td>\n",
       "      <td>-5.136</td>\n",
       "      <td>554.705882</td>\n",
       "      <td>Tier 2</td>\n",
       "      <td>Drink Led</td>\n",
       "      <td>Beer bar</td>\n",
       "      <td>OW_BOTTLE_CORONA_CORONA EXTRA</td>\n",
       "      <td>CORONA</td>\n",
       "      <td>CORONA EXTRA</td>\n",
       "      <td>BOTTLE</td>\n",
       "      <td>2.89</td>\n",
       "      <td>Luxembourg</td>\n",
       "      <td>0.00</td>\n",
       "      <td>0</td>\n",
       "      <td>0</td>\n",
       "      <td>1</td>\n",
       "      <td>0</td>\n",
       "    </tr>\n",
       "    <tr>\n",
       "      <th>356</th>\n",
       "      <td>0</td>\n",
       "      <td>-47.176</td>\n",
       "      <td>573.333333</td>\n",
       "      <td>Tier 2</td>\n",
       "      <td>Drink Led</td>\n",
       "      <td>Bar</td>\n",
       "      <td>RETURNABLE_BOTTLE_BASS_BASS PALE ALE</td>\n",
       "      <td>BASS</td>\n",
       "      <td>BASS PALE ALE</td>\n",
       "      <td>BOTTLE</td>\n",
       "      <td>1.52</td>\n",
       "      <td>West Flanders</td>\n",
       "      <td>0.59</td>\n",
       "      <td>0</td>\n",
       "      <td>0</td>\n",
       "      <td>1</td>\n",
       "      <td>1</td>\n",
       "    </tr>\n",
       "    <tr>\n",
       "      <th>385</th>\n",
       "      <td>0</td>\n",
       "      <td>-1.527</td>\n",
       "      <td>573.333333</td>\n",
       "      <td>Tier 1</td>\n",
       "      <td>Drink Led</td>\n",
       "      <td>Bar</td>\n",
       "      <td>RETURNABLE_BOTTLE_BASS_BASS PALE ALE</td>\n",
       "      <td>BASS</td>\n",
       "      <td>BASS PALE ALE</td>\n",
       "      <td>BOTTLE</td>\n",
       "      <td>6.10</td>\n",
       "      <td>East Flanders</td>\n",
       "      <td>41.42</td>\n",
       "      <td>0</td>\n",
       "      <td>1</td>\n",
       "      <td>0</td>\n",
       "      <td>1</td>\n",
       "    </tr>\n",
       "    <tr>\n",
       "      <th>408</th>\n",
       "      <td>0</td>\n",
       "      <td>-2.514</td>\n",
       "      <td>573.333333</td>\n",
       "      <td>Tier 1</td>\n",
       "      <td>Drink Led</td>\n",
       "      <td>Bar</td>\n",
       "      <td>RETURNABLE_BOTTLE_BASS_BASS PALE ALE</td>\n",
       "      <td>BASS</td>\n",
       "      <td>BASS PALE ALE</td>\n",
       "      <td>BOTTLE</td>\n",
       "      <td>13.72</td>\n",
       "      <td>East Flanders</td>\n",
       "      <td>0.00</td>\n",
       "      <td>0</td>\n",
       "      <td>1</td>\n",
       "      <td>0</td>\n",
       "      <td>1</td>\n",
       "    </tr>\n",
       "    <tr>\n",
       "      <th>414</th>\n",
       "      <td>0</td>\n",
       "      <td>-6.733</td>\n",
       "      <td>573.333333</td>\n",
       "      <td>Tier 1</td>\n",
       "      <td>Food Led</td>\n",
       "      <td>Hybrid</td>\n",
       "      <td>RETURNABLE_BOTTLE_BASS_BASS PALE ALE</td>\n",
       "      <td>BASS</td>\n",
       "      <td>BASS PALE ALE</td>\n",
       "      <td>BOTTLE</td>\n",
       "      <td>1.52</td>\n",
       "      <td>East Flanders</td>\n",
       "      <td>8.22</td>\n",
       "      <td>0</td>\n",
       "      <td>1</td>\n",
       "      <td>0</td>\n",
       "      <td>1</td>\n",
       "    </tr>\n",
       "    <tr>\n",
       "      <th>458</th>\n",
       "      <td>0</td>\n",
       "      <td>0.215</td>\n",
       "      <td>503.924051</td>\n",
       "      <td>Tier 1</td>\n",
       "      <td>Drink Led</td>\n",
       "      <td>Bar</td>\n",
       "      <td>RETURNABLE_BOTTLE_HOEGAARDEN_HOEGAARDEN GRAND CRU</td>\n",
       "      <td>HOEGAARDEN</td>\n",
       "      <td>HOEGAARDEN GRAND CRU</td>\n",
       "      <td>BOTTLE</td>\n",
       "      <td>2.97</td>\n",
       "      <td>Flemish Brabant</td>\n",
       "      <td>0.00</td>\n",
       "      <td>0</td>\n",
       "      <td>1</td>\n",
       "      <td>0</td>\n",
       "      <td>1</td>\n",
       "    </tr>\n",
       "    <tr>\n",
       "      <th>481</th>\n",
       "      <td>0</td>\n",
       "      <td>-11.204</td>\n",
       "      <td>776.823105</td>\n",
       "      <td>Tier 0</td>\n",
       "      <td>Food Led</td>\n",
       "      <td>Hybrid</td>\n",
       "      <td>RETURNABLE_BOTTLE_LEFFE_FLAVOURED ALCOHOLIC</td>\n",
       "      <td>LEFFE</td>\n",
       "      <td>FLAVOURED ALCOHOLIC</td>\n",
       "      <td>BOTTLE</td>\n",
       "      <td>37.12</td>\n",
       "      <td>Brussels Capital Region</td>\n",
       "      <td>149.42</td>\n",
       "      <td>0</td>\n",
       "      <td>0</td>\n",
       "      <td>0</td>\n",
       "      <td>1</td>\n",
       "    </tr>\n",
       "    <tr>\n",
       "      <th>504</th>\n",
       "      <td>0</td>\n",
       "      <td>-15.394</td>\n",
       "      <td>604.444444</td>\n",
       "      <td>Tier 2</td>\n",
       "      <td>Food Led</td>\n",
       "      <td>Hybrid</td>\n",
       "      <td>RETURNABLE_BOTTLE_BELLE VUE_BELLE VUE EXTRA KRIEK</td>\n",
       "      <td>BELLE VUE</td>\n",
       "      <td>BELLE VUE EXTRA KRIEK</td>\n",
       "      <td>BOTTLE</td>\n",
       "      <td>6.08</td>\n",
       "      <td>Namur</td>\n",
       "      <td>15.41</td>\n",
       "      <td>0</td>\n",
       "      <td>0</td>\n",
       "      <td>1</td>\n",
       "      <td>1</td>\n",
       "    </tr>\n",
       "    <tr>\n",
       "      <th>508</th>\n",
       "      <td>0</td>\n",
       "      <td>-15.394</td>\n",
       "      <td>524.500000</td>\n",
       "      <td>Tier 2</td>\n",
       "      <td>Food Led</td>\n",
       "      <td>Hybrid</td>\n",
       "      <td>RETURNABLE_BOTTLE_HOEGAARDEN_HOEGAARDEN ROSEE</td>\n",
       "      <td>HOEGAARDEN</td>\n",
       "      <td>HOEGAARDEN ROSEE</td>\n",
       "      <td>BOTTLE</td>\n",
       "      <td>3.84</td>\n",
       "      <td>Namur</td>\n",
       "      <td>11.82</td>\n",
       "      <td>0</td>\n",
       "      <td>0</td>\n",
       "      <td>1</td>\n",
       "      <td>1</td>\n",
       "    </tr>\n",
       "  </tbody>\n",
       "</table>\n",
       "</div>"
      ],
      "text/plain": [
       "     New_customer  Difference  GTO_per_unit_vol sfdc_tier        segment  \\\n",
       "179             0     -21.729        520.444444    Tier 1  Institutional   \n",
       "329             0      -5.136        554.705882    Tier 2      Drink Led   \n",
       "356             0     -47.176        573.333333    Tier 2      Drink Led   \n",
       "385             0      -1.527        573.333333    Tier 1      Drink Led   \n",
       "408             0      -2.514        573.333333    Tier 1      Drink Led   \n",
       "414             0      -6.733        573.333333    Tier 1       Food Led   \n",
       "458             0       0.215        503.924051    Tier 1      Drink Led   \n",
       "481             0     -11.204        776.823105    Tier 0       Food Led   \n",
       "504             0     -15.394        604.444444    Tier 2       Food Led   \n",
       "508             0     -15.394        524.500000    Tier 2       Food Led   \n",
       "\n",
       "       sub_segment                                        Product_Set  \\\n",
       "179  Institutional  RETURNABLE_BOTTLE_BELLE VUE_BELLE VUE EXTRA KRIEK   \n",
       "329       Beer bar                      OW_BOTTLE_CORONA_CORONA EXTRA   \n",
       "356            Bar               RETURNABLE_BOTTLE_BASS_BASS PALE ALE   \n",
       "385            Bar               RETURNABLE_BOTTLE_BASS_BASS PALE ALE   \n",
       "408            Bar               RETURNABLE_BOTTLE_BASS_BASS PALE ALE   \n",
       "414         Hybrid               RETURNABLE_BOTTLE_BASS_BASS PALE ALE   \n",
       "458            Bar  RETURNABLE_BOTTLE_HOEGAARDEN_HOEGAARDEN GRAND CRU   \n",
       "481         Hybrid        RETURNABLE_BOTTLE_LEFFE_FLAVOURED ALCOHOLIC   \n",
       "504         Hybrid  RETURNABLE_BOTTLE_BELLE VUE_BELLE VUE EXTRA KRIEK   \n",
       "508         Hybrid      RETURNABLE_BOTTLE_HOEGAARDEN_HOEGAARDEN ROSEE   \n",
       "\n",
       "          Brand              Sub_Brand Pack_Type    Tax  \\\n",
       "179   BELLE VUE  BELLE VUE EXTRA KRIEK    BOTTLE  10.70   \n",
       "329      CORONA           CORONA EXTRA    BOTTLE   2.89   \n",
       "356        BASS          BASS PALE ALE    BOTTLE   1.52   \n",
       "385        BASS          BASS PALE ALE    BOTTLE   6.10   \n",
       "408        BASS          BASS PALE ALE    BOTTLE  13.72   \n",
       "414        BASS          BASS PALE ALE    BOTTLE   1.52   \n",
       "458  HOEGAARDEN   HOEGAARDEN GRAND CRU    BOTTLE   2.97   \n",
       "481       LEFFE    FLAVOURED ALCOHOLIC    BOTTLE  37.12   \n",
       "504   BELLE VUE  BELLE VUE EXTRA KRIEK    BOTTLE   6.08   \n",
       "508  HOEGAARDEN       HOEGAARDEN ROSEE    BOTTLE   3.84   \n",
       "\n",
       "                    province  Discount_Total  Premium  Tier 1  Tier 2  \\\n",
       "179          Flemish Brabant           -0.30        0       1       0   \n",
       "329               Luxembourg            0.00        0       0       1   \n",
       "356            West Flanders            0.59        0       0       1   \n",
       "385            East Flanders           41.42        0       1       0   \n",
       "408            East Flanders            0.00        0       1       0   \n",
       "414            East Flanders            8.22        0       1       0   \n",
       "458          Flemish Brabant            0.00        0       1       0   \n",
       "481  Brussels Capital Region          149.42        0       0       0   \n",
       "504                    Namur           15.41        0       0       1   \n",
       "508                    Namur           11.82        0       0       1   \n",
       "\n",
       "     RETURNABLE  \n",
       "179           1  \n",
       "329           0  \n",
       "356           1  \n",
       "385           1  \n",
       "408           1  \n",
       "414           1  \n",
       "458           1  \n",
       "481           1  \n",
       "504           1  \n",
       "508           1  "
      ]
     },
     "execution_count": 38,
     "metadata": {},
     "output_type": "execute_result"
    }
   ],
   "source": [
    "data_high.head(10)"
   ]
  },
  {
   "cell_type": "code",
   "execution_count": 39,
   "metadata": {},
   "outputs": [
    {
     "data": {
      "text/plain": [
       "<AxesSubplot:xlabel='Pack_Type', ylabel='count'>"
      ]
     },
     "execution_count": 39,
     "metadata": {},
     "output_type": "execute_result"
    },
    {
     "data": {
      "image/png": "[encoded data removed]",
      "text/plain": [
       "<Figure size 432x288 with 1 Axes>"
      ]
     },
     "metadata": {
      "needs_background": "light"
     },
     "output_type": "display_data"
    }
   ],
   "source": [
    "sns.countplot(x=\"Pack_Type\", data= data_high)"
   ]
  },
  {
   "cell_type": "code",
   "execution_count": 40,
   "metadata": {},
   "outputs": [
    {
     "data": {
      "text/plain": [
       "<AxesSubplot:xlabel='sfdc_tier', ylabel='count'>"
      ]
     },
     "execution_count": 40,
     "metadata": {},
     "output_type": "execute_result"
    },
    {
     "data": {
      "image/png": "[encoded data removed]",
      "text/plain": [
       "<Figure size 432x288 with 1 Axes>"
      ]
     },
     "metadata": {
      "needs_background": "light"
     },
     "output_type": "display_data"
    }
   ],
   "source": [
    "sns.countplot(x = \"sfdc_tier\", data= data_high)"
   ]
  },
  {
   "cell_type": "code",
   "execution_count": 41,
   "metadata": {},
   "outputs": [
    {
     "data": {
      "text/plain": [
       "<AxesSubplot:xlabel='province', ylabel='count'>"
      ]
     },
     "execution_count": 41,
     "metadata": {},
     "output_type": "execute_result"
    },
    {
     "data": {
      "image/png": "[encoded data removed]",
      "text/plain": [
       "<Figure size 432x288 with 1 Axes>"
      ]
     },
     "metadata": {
      "needs_background": "light"
     },
     "output_type": "display_data"
    }
   ],
   "source": [
    "sns.countplot(x = \"province\", hue = 'sfdc_tier', data= data_high)"
   ]
  },
  {
   "cell_type": "code",
   "execution_count": 42,
   "metadata": {},
   "outputs": [
    {
     "data": {
      "text/plain": [
       "<AxesSubplot:xlabel='Brand', ylabel='count'>"
      ]
     },
     "execution_count": 42,
     "metadata": {},
     "output_type": "execute_result"
    },
    {
     "data": {
      "image/png": "[encoded data removed]",
      "text/plain": [
       "<Figure size 432x288 with 1 Axes>"
      ]
     },
     "metadata": {
      "needs_background": "light"
     },
     "output_type": "display_data"
    }
   ],
   "source": [
    "sns.countplot(x = \"Brand\", data= data_high)"
   ]
  },
  {
   "cell_type": "code",
   "execution_count": 43,
   "metadata": {
    "scrolled": true
   },
   "outputs": [
    {
     "data": {
      "text/plain": [
       "<AxesSubplot:xlabel='segment', ylabel='count'>"
      ]
     },
     "execution_count": 43,
     "metadata": {},
     "output_type": "execute_result"
    },
    {
     "data": {
      "image/png": "[encoded data removed]",
      "text/plain": [
       "<Figure size 432x288 with 1 Axes>"
      ]
     },
     "metadata": {
      "needs_background": "light"
     },
     "output_type": "display_data"
    }
   ],
   "source": [
    "sns.countplot(x = \"segment\", data= data_high)"
   ]
  },
  {
   "cell_type": "code",
   "execution_count": 44,
   "metadata": {},
   "outputs": [
    {
     "data": {
      "text/plain": [
       "<AxesSubplot:xlabel='RETURNABLE', ylabel='count'>"
      ]
     },
     "execution_count": 44,
     "metadata": {},
     "output_type": "execute_result"
    },
    {
     "data": {
      "image/png": "[encoded data removed]",
      "text/plain": [
       "<Figure size 432x288 with 1 Axes>"
      ]
     },
     "metadata": {
      "needs_background": "light"
     },
     "output_type": "display_data"
    }
   ],
   "source": [
    "sns.countplot(x = \"RETURNABLE\", data= data_high)"
   ]
  },
  {
   "cell_type": "markdown",
   "metadata": {},
   "source": [
    "Clearly there are specific attribute distribution."
   ]
  },
  {
   "cell_type": "code",
   "execution_count": 45,
   "metadata": {},
   "outputs": [
    {
     "data": {
      "text/html": [
       "<div>\n",
       "<style scoped>\n",
       "    .dataframe tbody tr th:only-of-type {\n",
       "        vertical-align: middle;\n",
       "    }\n",
       "\n",
       "    .dataframe tbody tr th {\n",
       "        vertical-align: top;\n",
       "    }\n",
       "\n",
       "    .dataframe thead th {\n",
       "        text-align: right;\n",
       "    }\n",
       "</style>\n",
       "<table border=\"1\" class=\"dataframe\">\n",
       "  <thead>\n",
       "    <tr style=\"text-align: right;\">\n",
       "      <th></th>\n",
       "      <th>New_customer</th>\n",
       "      <th>Difference</th>\n",
       "      <th>GTO_per_unit_vol</th>\n",
       "      <th>segment</th>\n",
       "      <th>sub_segment</th>\n",
       "      <th>Product_Set</th>\n",
       "      <th>Brand</th>\n",
       "      <th>Sub_Brand</th>\n",
       "      <th>Pack_Type</th>\n",
       "      <th>Tax</th>\n",
       "      <th>province</th>\n",
       "      <th>Discount_Total</th>\n",
       "      <th>Premium</th>\n",
       "      <th>Tier 1</th>\n",
       "      <th>Tier 2</th>\n",
       "      <th>RETURNABLE</th>\n",
       "    </tr>\n",
       "  </thead>\n",
       "  <tbody>\n",
       "    <tr>\n",
       "      <th>0</th>\n",
       "      <td>0</td>\n",
       "      <td>-0.077</td>\n",
       "      <td>294.166667</td>\n",
       "      <td>Entertainment Led</td>\n",
       "      <td>Events</td>\n",
       "      <td>RETURNABLE_BOTTLE_JUPILER_JUPILER PILS</td>\n",
       "      <td>JUPILER</td>\n",
       "      <td>JUPILER PILS</td>\n",
       "      <td>BOTTLE</td>\n",
       "      <td>12.23</td>\n",
       "      <td>Brussels Capital Region</td>\n",
       "      <td>0.00</td>\n",
       "      <td>0</td>\n",
       "      <td>0</td>\n",
       "      <td>0</td>\n",
       "      <td>1</td>\n",
       "    </tr>\n",
       "    <tr>\n",
       "      <th>2</th>\n",
       "      <td>0</td>\n",
       "      <td>45.250</td>\n",
       "      <td>258.000000</td>\n",
       "      <td>Drink Led</td>\n",
       "      <td>Party Place</td>\n",
       "      <td>OW_BULK_JUPILER_JUPILER PILS</td>\n",
       "      <td>JUPILER</td>\n",
       "      <td>JUPILER PILS</td>\n",
       "      <td>BULK</td>\n",
       "      <td>3577.69</td>\n",
       "      <td>Antwerp</td>\n",
       "      <td>14511.46</td>\n",
       "      <td>0</td>\n",
       "      <td>1</td>\n",
       "      <td>0</td>\n",
       "      <td>0</td>\n",
       "    </tr>\n",
       "    <tr>\n",
       "      <th>3</th>\n",
       "      <td>0</td>\n",
       "      <td>45.250</td>\n",
       "      <td>294.166667</td>\n",
       "      <td>Drink Led</td>\n",
       "      <td>Party Place</td>\n",
       "      <td>RETURNABLE_BOTTLE_JUPILER_JUPILER PILS</td>\n",
       "      <td>JUPILER</td>\n",
       "      <td>JUPILER PILS</td>\n",
       "      <td>BOTTLE</td>\n",
       "      <td>519.41</td>\n",
       "      <td>Antwerp</td>\n",
       "      <td>1605.19</td>\n",
       "      <td>0</td>\n",
       "      <td>1</td>\n",
       "      <td>0</td>\n",
       "      <td>1</td>\n",
       "    </tr>\n",
       "    <tr>\n",
       "      <th>4</th>\n",
       "      <td>0</td>\n",
       "      <td>45.250</td>\n",
       "      <td>254.280000</td>\n",
       "      <td>Drink Led</td>\n",
       "      <td>Party Place</td>\n",
       "      <td>RETURNABLE_KEG_JUPILER_JUPILER PILS</td>\n",
       "      <td>JUPILER</td>\n",
       "      <td>JUPILER PILS</td>\n",
       "      <td>KEG</td>\n",
       "      <td>288.63</td>\n",
       "      <td>Antwerp</td>\n",
       "      <td>718.32</td>\n",
       "      <td>0</td>\n",
       "      <td>1</td>\n",
       "      <td>0</td>\n",
       "      <td>1</td>\n",
       "    </tr>\n",
       "    <tr>\n",
       "      <th>5</th>\n",
       "      <td>0</td>\n",
       "      <td>3.750</td>\n",
       "      <td>347.000000</td>\n",
       "      <td>Institutional</td>\n",
       "      <td>Institutional</td>\n",
       "      <td>RETURNABLE_BOTTLE_JUPILER_JUPILER 0,0</td>\n",
       "      <td>JUPILER</td>\n",
       "      <td>JUPILER 0,0</td>\n",
       "      <td>BOTTLE</td>\n",
       "      <td>1.55</td>\n",
       "      <td>Namur</td>\n",
       "      <td>0.00</td>\n",
       "      <td>0</td>\n",
       "      <td>0</td>\n",
       "      <td>1</td>\n",
       "      <td>1</td>\n",
       "    </tr>\n",
       "  </tbody>\n",
       "</table>\n",
       "</div>"
      ],
      "text/plain": [
       "   New_customer  Difference  GTO_per_unit_vol            segment  \\\n",
       "0             0      -0.077        294.166667  Entertainment Led   \n",
       "2             0      45.250        258.000000          Drink Led   \n",
       "3             0      45.250        294.166667          Drink Led   \n",
       "4             0      45.250        254.280000          Drink Led   \n",
       "5             0       3.750        347.000000      Institutional   \n",
       "\n",
       "     sub_segment                             Product_Set    Brand  \\\n",
       "0         Events  RETURNABLE_BOTTLE_JUPILER_JUPILER PILS  JUPILER   \n",
       "2    Party Place            OW_BULK_JUPILER_JUPILER PILS  JUPILER   \n",
       "3    Party Place  RETURNABLE_BOTTLE_JUPILER_JUPILER PILS  JUPILER   \n",
       "4    Party Place     RETURNABLE_KEG_JUPILER_JUPILER PILS  JUPILER   \n",
       "5  Institutional   RETURNABLE_BOTTLE_JUPILER_JUPILER 0,0  JUPILER   \n",
       "\n",
       "      Sub_Brand Pack_Type      Tax                 province  Discount_Total  \\\n",
       "0  JUPILER PILS    BOTTLE    12.23  Brussels Capital Region            0.00   \n",
       "2  JUPILER PILS      BULK  3577.69                  Antwerp        14511.46   \n",
       "3  JUPILER PILS    BOTTLE   519.41                  Antwerp         1605.19   \n",
       "4  JUPILER PILS       KEG   288.63                  Antwerp          718.32   \n",
       "5   JUPILER 0,0    BOTTLE     1.55                    Namur            0.00   \n",
       "\n",
       "   Premium  Tier 1  Tier 2  RETURNABLE  \n",
       "0        0       0       0           1  \n",
       "2        0       1       0           0  \n",
       "3        0       1       0           1  \n",
       "4        0       1       0           1  \n",
       "5        0       0       1           1  "
      ]
     },
     "execution_count": 45,
     "metadata": {},
     "output_type": "execute_result"
    }
   ],
   "source": [
    "data.drop('sfdc_tier', axis = 1, inplace = True)\n",
    "data.head()"
   ]
  },
  {
   "cell_type": "markdown",
   "metadata": {},
   "source": [
    "We will be making a different set of data for people visiting for the first time."
   ]
  },
  {
   "cell_type": "code",
   "execution_count": 46,
   "metadata": {
    "scrolled": false
   },
   "outputs": [
    {
     "name": "stderr",
     "output_type": "stream",
     "text": [
      "C:\\Users\\shrey\\anaconda3\\lib\\site-packages\\pandas\\core\\frame.py:4163: SettingWithCopyWarning: \n",
      "A value is trying to be set on a copy of a slice from a DataFrame\n",
      "\n",
      "See the caveats in the documentation: https://pandas.pydata.org/pandas-docs/stable/user_guide/indexing.html#returning-a-view-versus-a-copy\n",
      "  return super().drop(\n"
     ]
    },
    {
     "data": {
      "text/plain": [
       "(166, 14)"
      ]
     },
     "execution_count": 46,
     "metadata": {},
     "output_type": "execute_result"
    }
   ],
   "source": [
    "data_new_customers= data.loc[data[\"New_customer\"]==1]\n",
    "data_new_customers.drop(['New_customer','Difference'], axis=1, inplace = True)\n",
    "data_new_customers.shape"
   ]
  },
  {
   "cell_type": "code",
   "execution_count": 47,
   "metadata": {
    "scrolled": true
   },
   "outputs": [
    {
     "data": {
      "text/html": [
       "<div>\n",
       "<style scoped>\n",
       "    .dataframe tbody tr th:only-of-type {\n",
       "        vertical-align: middle;\n",
       "    }\n",
       "\n",
       "    .dataframe tbody tr th {\n",
       "        vertical-align: top;\n",
       "    }\n",
       "\n",
       "    .dataframe thead th {\n",
       "        text-align: right;\n",
       "    }\n",
       "</style>\n",
       "<table border=\"1\" class=\"dataframe\">\n",
       "  <thead>\n",
       "    <tr style=\"text-align: right;\">\n",
       "      <th></th>\n",
       "      <th>GTO_per_unit_vol</th>\n",
       "      <th>segment</th>\n",
       "      <th>sub_segment</th>\n",
       "      <th>Product_Set</th>\n",
       "      <th>Brand</th>\n",
       "      <th>Sub_Brand</th>\n",
       "      <th>Pack_Type</th>\n",
       "      <th>Tax</th>\n",
       "      <th>province</th>\n",
       "      <th>Discount_Total</th>\n",
       "      <th>Premium</th>\n",
       "      <th>Tier 1</th>\n",
       "      <th>Tier 2</th>\n",
       "      <th>RETURNABLE</th>\n",
       "    </tr>\n",
       "  </thead>\n",
       "  <tbody>\n",
       "    <tr>\n",
       "      <th>29</th>\n",
       "      <td>338.927445</td>\n",
       "      <td>Entertainment Led</td>\n",
       "      <td>Events</td>\n",
       "      <td>OW_CAN_JUPILER_JUPILER PILS</td>\n",
       "      <td>JUPILER</td>\n",
       "      <td>JUPILER PILS</td>\n",
       "      <td>CAN</td>\n",
       "      <td>10.74</td>\n",
       "      <td>Hainaut</td>\n",
       "      <td>0.0</td>\n",
       "      <td>0</td>\n",
       "      <td>1</td>\n",
       "      <td>0</td>\n",
       "      <td>0</td>\n",
       "    </tr>\n",
       "    <tr>\n",
       "      <th>81</th>\n",
       "      <td>258.933333</td>\n",
       "      <td>Institutional</td>\n",
       "      <td>Institutional</td>\n",
       "      <td>RETURNABLE_KEG_JUPILER_JUPILER PILS</td>\n",
       "      <td>JUPILER</td>\n",
       "      <td>JUPILER PILS</td>\n",
       "      <td>KEG</td>\n",
       "      <td>43.29</td>\n",
       "      <td>East Flanders</td>\n",
       "      <td>0.0</td>\n",
       "      <td>0</td>\n",
       "      <td>0</td>\n",
       "      <td>1</td>\n",
       "      <td>1</td>\n",
       "    </tr>\n",
       "    <tr>\n",
       "      <th>204</th>\n",
       "      <td>349.750000</td>\n",
       "      <td>Drink Led</td>\n",
       "      <td>Bar</td>\n",
       "      <td>RETURNABLE_BOTTLE_HOEGAARDEN_HOEGAARDEN ROSEE</td>\n",
       "      <td>HOEGAARDEN</td>\n",
       "      <td>HOEGAARDEN ROSEE</td>\n",
       "      <td>BOTTLE</td>\n",
       "      <td>2.58</td>\n",
       "      <td>Flemish Brabant</td>\n",
       "      <td>0.0</td>\n",
       "      <td>0</td>\n",
       "      <td>1</td>\n",
       "      <td>0</td>\n",
       "      <td>1</td>\n",
       "    </tr>\n",
       "    <tr>\n",
       "      <th>205</th>\n",
       "      <td>379.936709</td>\n",
       "      <td>Drink Led</td>\n",
       "      <td>Bar</td>\n",
       "      <td>RETURNABLE_BOTTLE_LEFFE_LEFFE SANS ALCOOL/ALCO...</td>\n",
       "      <td>LEFFE</td>\n",
       "      <td>LEFFE SANS ALCOOL/ALCOHOLVRIJ</td>\n",
       "      <td>BOTTLE</td>\n",
       "      <td>0.81</td>\n",
       "      <td>Flemish Brabant</td>\n",
       "      <td>0.0</td>\n",
       "      <td>0</td>\n",
       "      <td>1</td>\n",
       "      <td>0</td>\n",
       "      <td>1</td>\n",
       "    </tr>\n",
       "    <tr>\n",
       "      <th>206</th>\n",
       "      <td>261.340000</td>\n",
       "      <td>Drink Led</td>\n",
       "      <td>Bar</td>\n",
       "      <td>RETURNABLE_KEG_STELLA ARTOIS_STELLA ARTOIS REG...</td>\n",
       "      <td>STELLA ARTOIS</td>\n",
       "      <td>STELLA ARTOIS REGULAR</td>\n",
       "      <td>KEG</td>\n",
       "      <td>60.14</td>\n",
       "      <td>Flemish Brabant</td>\n",
       "      <td>0.0</td>\n",
       "      <td>0</td>\n",
       "      <td>1</td>\n",
       "      <td>0</td>\n",
       "      <td>1</td>\n",
       "    </tr>\n",
       "  </tbody>\n",
       "</table>\n",
       "</div>"
      ],
      "text/plain": [
       "     GTO_per_unit_vol            segment    sub_segment  \\\n",
       "29         338.927445  Entertainment Led         Events   \n",
       "81         258.933333      Institutional  Institutional   \n",
       "204        349.750000          Drink Led            Bar   \n",
       "205        379.936709          Drink Led            Bar   \n",
       "206        261.340000          Drink Led            Bar   \n",
       "\n",
       "                                           Product_Set          Brand  \\\n",
       "29                         OW_CAN_JUPILER_JUPILER PILS        JUPILER   \n",
       "81                 RETURNABLE_KEG_JUPILER_JUPILER PILS        JUPILER   \n",
       "204      RETURNABLE_BOTTLE_HOEGAARDEN_HOEGAARDEN ROSEE     HOEGAARDEN   \n",
       "205  RETURNABLE_BOTTLE_LEFFE_LEFFE SANS ALCOOL/ALCO...          LEFFE   \n",
       "206  RETURNABLE_KEG_STELLA ARTOIS_STELLA ARTOIS REG...  STELLA ARTOIS   \n",
       "\n",
       "                         Sub_Brand Pack_Type    Tax         province  \\\n",
       "29                    JUPILER PILS       CAN  10.74          Hainaut   \n",
       "81                    JUPILER PILS       KEG  43.29    East Flanders   \n",
       "204               HOEGAARDEN ROSEE    BOTTLE   2.58  Flemish Brabant   \n",
       "205  LEFFE SANS ALCOOL/ALCOHOLVRIJ    BOTTLE   0.81  Flemish Brabant   \n",
       "206          STELLA ARTOIS REGULAR       KEG  60.14  Flemish Brabant   \n",
       "\n",
       "     Discount_Total  Premium  Tier 1  Tier 2  RETURNABLE  \n",
       "29              0.0        0       1       0           0  \n",
       "81              0.0        0       0       1           1  \n",
       "204             0.0        0       1       0           1  \n",
       "205             0.0        0       1       0           1  \n",
       "206             0.0        0       1       0           1  "
      ]
     },
     "execution_count": 47,
     "metadata": {},
     "output_type": "execute_result"
    }
   ],
   "source": [
    "data_new_customers.head()"
   ]
  },
  {
   "cell_type": "code",
   "execution_count": 48,
   "metadata": {},
   "outputs": [
    {
     "name": "stderr",
     "output_type": "stream",
     "text": [
      "C:\\Users\\shrey\\anaconda3\\lib\\site-packages\\pandas\\core\\frame.py:4163: SettingWithCopyWarning: \n",
      "A value is trying to be set on a copy of a slice from a DataFrame\n",
      "\n",
      "See the caveats in the documentation: https://pandas.pydata.org/pandas-docs/stable/user_guide/indexing.html#returning-a-view-versus-a-copy\n",
      "  return super().drop(\n"
     ]
    }
   ],
   "source": [
    "data_not_new = data.loc[data[\"New_customer\"]==0]\n",
    "data_not_new.drop('New_customer', axis = 1, inplace = True)"
   ]
  },
  {
   "cell_type": "markdown",
   "metadata": {},
   "source": [
    "Now, we can also make a dataset of customers who ordered less product than 2018"
   ]
  },
  {
   "cell_type": "code",
   "execution_count": 49,
   "metadata": {},
   "outputs": [
    {
     "name": "stderr",
     "output_type": "stream",
     "text": [
      "C:\\Users\\shrey\\anaconda3\\lib\\site-packages\\pandas\\core\\frame.py:4163: SettingWithCopyWarning: \n",
      "A value is trying to be set on a copy of a slice from a DataFrame\n",
      "\n",
      "See the caveats in the documentation: https://pandas.pydata.org/pandas-docs/stable/user_guide/indexing.html#returning-a-view-versus-a-copy\n",
      "  return super().drop(\n"
     ]
    },
    {
     "data": {
      "text/plain": [
       "(19574, 14)"
      ]
     },
     "execution_count": 49,
     "metadata": {},
     "output_type": "execute_result"
    }
   ],
   "source": [
    "data_diff_neg = data_not_new.loc[data[\"Difference\"]<0]\n",
    "data_diff_neg.drop('Difference', axis = 1, inplace =True)\n",
    "data_diff_neg.shape"
   ]
  },
  {
   "cell_type": "code",
   "execution_count": 50,
   "metadata": {},
   "outputs": [
    {
     "data": {
      "text/html": [
       "<div>\n",
       "<style scoped>\n",
       "    .dataframe tbody tr th:only-of-type {\n",
       "        vertical-align: middle;\n",
       "    }\n",
       "\n",
       "    .dataframe tbody tr th {\n",
       "        vertical-align: top;\n",
       "    }\n",
       "\n",
       "    .dataframe thead th {\n",
       "        text-align: right;\n",
       "    }\n",
       "</style>\n",
       "<table border=\"1\" class=\"dataframe\">\n",
       "  <thead>\n",
       "    <tr style=\"text-align: right;\">\n",
       "      <th></th>\n",
       "      <th>GTO_per_unit_vol</th>\n",
       "      <th>segment</th>\n",
       "      <th>sub_segment</th>\n",
       "      <th>Product_Set</th>\n",
       "      <th>Brand</th>\n",
       "      <th>Sub_Brand</th>\n",
       "      <th>Pack_Type</th>\n",
       "      <th>Tax</th>\n",
       "      <th>province</th>\n",
       "      <th>Discount_Total</th>\n",
       "      <th>Premium</th>\n",
       "      <th>Tier 1</th>\n",
       "      <th>Tier 2</th>\n",
       "      <th>RETURNABLE</th>\n",
       "    </tr>\n",
       "  </thead>\n",
       "  <tbody>\n",
       "    <tr>\n",
       "      <th>0</th>\n",
       "      <td>294.166667</td>\n",
       "      <td>Entertainment Led</td>\n",
       "      <td>Events</td>\n",
       "      <td>RETURNABLE_BOTTLE_JUPILER_JUPILER PILS</td>\n",
       "      <td>JUPILER</td>\n",
       "      <td>JUPILER PILS</td>\n",
       "      <td>BOTTLE</td>\n",
       "      <td>12.23</td>\n",
       "      <td>Brussels Capital Region</td>\n",
       "      <td>0.00</td>\n",
       "      <td>0</td>\n",
       "      <td>0</td>\n",
       "      <td>0</td>\n",
       "      <td>1</td>\n",
       "    </tr>\n",
       "    <tr>\n",
       "      <th>9</th>\n",
       "      <td>347.000000</td>\n",
       "      <td>Institutional</td>\n",
       "      <td>Institutional</td>\n",
       "      <td>RETURNABLE_BOTTLE_JUPILER_JUPILER 0,0</td>\n",
       "      <td>JUPILER</td>\n",
       "      <td>JUPILER 0,0</td>\n",
       "      <td>BOTTLE</td>\n",
       "      <td>0.31</td>\n",
       "      <td>Antwerp</td>\n",
       "      <td>6.15</td>\n",
       "      <td>0</td>\n",
       "      <td>0</td>\n",
       "      <td>1</td>\n",
       "      <td>1</td>\n",
       "    </tr>\n",
       "    <tr>\n",
       "      <th>10</th>\n",
       "      <td>294.166667</td>\n",
       "      <td>Institutional</td>\n",
       "      <td>Institutional</td>\n",
       "      <td>RETURNABLE_BOTTLE_JUPILER_JUPILER PILS</td>\n",
       "      <td>JUPILER</td>\n",
       "      <td>JUPILER PILS</td>\n",
       "      <td>BOTTLE</td>\n",
       "      <td>9.16</td>\n",
       "      <td>Antwerp</td>\n",
       "      <td>29.02</td>\n",
       "      <td>0</td>\n",
       "      <td>0</td>\n",
       "      <td>1</td>\n",
       "      <td>1</td>\n",
       "    </tr>\n",
       "    <tr>\n",
       "      <th>56</th>\n",
       "      <td>453.333333</td>\n",
       "      <td>Drink Led</td>\n",
       "      <td>Bar</td>\n",
       "      <td>RETURNABLE_BOTTLE_BELLE VUE_BELLE VUE EXTRA KRIEK</td>\n",
       "      <td>BELLE VUE</td>\n",
       "      <td>BELLE VUE EXTRA KRIEK</td>\n",
       "      <td>BOTTLE</td>\n",
       "      <td>77.71</td>\n",
       "      <td>East Flanders</td>\n",
       "      <td>418.82</td>\n",
       "      <td>0</td>\n",
       "      <td>0</td>\n",
       "      <td>1</td>\n",
       "      <td>1</td>\n",
       "    </tr>\n",
       "    <tr>\n",
       "      <th>57</th>\n",
       "      <td>302.833333</td>\n",
       "      <td>Drink Led</td>\n",
       "      <td>Bar</td>\n",
       "      <td>RETURNABLE_BOTTLE_HOEGAARDEN_HOEGAARDEN WHITE</td>\n",
       "      <td>HOEGAARDEN</td>\n",
       "      <td>HOEGAARDEN WHITE</td>\n",
       "      <td>BOTTLE</td>\n",
       "      <td>27.50</td>\n",
       "      <td>East Flanders</td>\n",
       "      <td>95.84</td>\n",
       "      <td>0</td>\n",
       "      <td>0</td>\n",
       "      <td>1</td>\n",
       "      <td>1</td>\n",
       "    </tr>\n",
       "  </tbody>\n",
       "</table>\n",
       "</div>"
      ],
      "text/plain": [
       "    GTO_per_unit_vol            segment    sub_segment  \\\n",
       "0         294.166667  Entertainment Led         Events   \n",
       "9         347.000000      Institutional  Institutional   \n",
       "10        294.166667      Institutional  Institutional   \n",
       "56        453.333333          Drink Led            Bar   \n",
       "57        302.833333          Drink Led            Bar   \n",
       "\n",
       "                                          Product_Set       Brand  \\\n",
       "0              RETURNABLE_BOTTLE_JUPILER_JUPILER PILS     JUPILER   \n",
       "9               RETURNABLE_BOTTLE_JUPILER_JUPILER 0,0     JUPILER   \n",
       "10             RETURNABLE_BOTTLE_JUPILER_JUPILER PILS     JUPILER   \n",
       "56  RETURNABLE_BOTTLE_BELLE VUE_BELLE VUE EXTRA KRIEK   BELLE VUE   \n",
       "57      RETURNABLE_BOTTLE_HOEGAARDEN_HOEGAARDEN WHITE  HOEGAARDEN   \n",
       "\n",
       "                Sub_Brand Pack_Type    Tax                 province  \\\n",
       "0            JUPILER PILS    BOTTLE  12.23  Brussels Capital Region   \n",
       "9             JUPILER 0,0    BOTTLE   0.31                  Antwerp   \n",
       "10           JUPILER PILS    BOTTLE   9.16                  Antwerp   \n",
       "56  BELLE VUE EXTRA KRIEK    BOTTLE  77.71            East Flanders   \n",
       "57       HOEGAARDEN WHITE    BOTTLE  27.50            East Flanders   \n",
       "\n",
       "    Discount_Total  Premium  Tier 1  Tier 2  RETURNABLE  \n",
       "0             0.00        0       0       0           1  \n",
       "9             6.15        0       0       1           1  \n",
       "10           29.02        0       0       1           1  \n",
       "56          418.82        0       0       1           1  \n",
       "57           95.84        0       0       1           1  "
      ]
     },
     "execution_count": 50,
     "metadata": {},
     "output_type": "execute_result"
    }
   ],
   "source": [
    "data_diff_neg.head()"
   ]
  },
  {
   "cell_type": "markdown",
   "metadata": {},
   "source": [
    "Similarly, we can make a set of customers ordered equal or more than 2018"
   ]
  },
  {
   "cell_type": "code",
   "execution_count": 51,
   "metadata": {},
   "outputs": [
    {
     "name": "stderr",
     "output_type": "stream",
     "text": [
      "C:\\Users\\shrey\\anaconda3\\lib\\site-packages\\pandas\\core\\frame.py:4163: SettingWithCopyWarning: \n",
      "A value is trying to be set on a copy of a slice from a DataFrame\n",
      "\n",
      "See the caveats in the documentation: https://pandas.pydata.org/pandas-docs/stable/user_guide/indexing.html#returning-a-view-versus-a-copy\n",
      "  return super().drop(\n"
     ]
    },
    {
     "data": {
      "text/plain": [
       "(19587, 14)"
      ]
     },
     "execution_count": 51,
     "metadata": {},
     "output_type": "execute_result"
    }
   ],
   "source": [
    "data_diff_noneg = data_not_new.loc[data[\"Difference\"]>=0]\n",
    "data_diff_noneg.drop('Difference', axis = 1, inplace =True)\n",
    "data_diff_noneg.shape"
   ]
  },
  {
   "cell_type": "code",
   "execution_count": 52,
   "metadata": {},
   "outputs": [
    {
     "data": {
      "text/html": [
       "<div>\n",
       "<style scoped>\n",
       "    .dataframe tbody tr th:only-of-type {\n",
       "        vertical-align: middle;\n",
       "    }\n",
       "\n",
       "    .dataframe tbody tr th {\n",
       "        vertical-align: top;\n",
       "    }\n",
       "\n",
       "    .dataframe thead th {\n",
       "        text-align: right;\n",
       "    }\n",
       "</style>\n",
       "<table border=\"1\" class=\"dataframe\">\n",
       "  <thead>\n",
       "    <tr style=\"text-align: right;\">\n",
       "      <th></th>\n",
       "      <th>GTO_per_unit_vol</th>\n",
       "      <th>segment</th>\n",
       "      <th>sub_segment</th>\n",
       "      <th>Product_Set</th>\n",
       "      <th>Brand</th>\n",
       "      <th>Sub_Brand</th>\n",
       "      <th>Pack_Type</th>\n",
       "      <th>Tax</th>\n",
       "      <th>province</th>\n",
       "      <th>Discount_Total</th>\n",
       "      <th>Premium</th>\n",
       "      <th>Tier 1</th>\n",
       "      <th>Tier 2</th>\n",
       "      <th>RETURNABLE</th>\n",
       "    </tr>\n",
       "  </thead>\n",
       "  <tbody>\n",
       "    <tr>\n",
       "      <th>2</th>\n",
       "      <td>258.000000</td>\n",
       "      <td>Drink Led</td>\n",
       "      <td>Party Place</td>\n",
       "      <td>OW_BULK_JUPILER_JUPILER PILS</td>\n",
       "      <td>JUPILER</td>\n",
       "      <td>JUPILER PILS</td>\n",
       "      <td>BULK</td>\n",
       "      <td>3577.69</td>\n",
       "      <td>Antwerp</td>\n",
       "      <td>14511.46</td>\n",
       "      <td>0</td>\n",
       "      <td>1</td>\n",
       "      <td>0</td>\n",
       "      <td>0</td>\n",
       "    </tr>\n",
       "    <tr>\n",
       "      <th>3</th>\n",
       "      <td>294.166667</td>\n",
       "      <td>Drink Led</td>\n",
       "      <td>Party Place</td>\n",
       "      <td>RETURNABLE_BOTTLE_JUPILER_JUPILER PILS</td>\n",
       "      <td>JUPILER</td>\n",
       "      <td>JUPILER PILS</td>\n",
       "      <td>BOTTLE</td>\n",
       "      <td>519.41</td>\n",
       "      <td>Antwerp</td>\n",
       "      <td>1605.19</td>\n",
       "      <td>0</td>\n",
       "      <td>1</td>\n",
       "      <td>0</td>\n",
       "      <td>1</td>\n",
       "    </tr>\n",
       "    <tr>\n",
       "      <th>4</th>\n",
       "      <td>254.280000</td>\n",
       "      <td>Drink Led</td>\n",
       "      <td>Party Place</td>\n",
       "      <td>RETURNABLE_KEG_JUPILER_JUPILER PILS</td>\n",
       "      <td>JUPILER</td>\n",
       "      <td>JUPILER PILS</td>\n",
       "      <td>KEG</td>\n",
       "      <td>288.63</td>\n",
       "      <td>Antwerp</td>\n",
       "      <td>718.32</td>\n",
       "      <td>0</td>\n",
       "      <td>1</td>\n",
       "      <td>0</td>\n",
       "      <td>1</td>\n",
       "    </tr>\n",
       "    <tr>\n",
       "      <th>5</th>\n",
       "      <td>347.000000</td>\n",
       "      <td>Institutional</td>\n",
       "      <td>Institutional</td>\n",
       "      <td>RETURNABLE_BOTTLE_JUPILER_JUPILER 0,0</td>\n",
       "      <td>JUPILER</td>\n",
       "      <td>JUPILER 0,0</td>\n",
       "      <td>BOTTLE</td>\n",
       "      <td>1.55</td>\n",
       "      <td>Namur</td>\n",
       "      <td>0.00</td>\n",
       "      <td>0</td>\n",
       "      <td>0</td>\n",
       "      <td>1</td>\n",
       "      <td>1</td>\n",
       "    </tr>\n",
       "    <tr>\n",
       "      <th>6</th>\n",
       "      <td>294.166667</td>\n",
       "      <td>Institutional</td>\n",
       "      <td>Institutional</td>\n",
       "      <td>RETURNABLE_BOTTLE_JUPILER_JUPILER PILS</td>\n",
       "      <td>JUPILER</td>\n",
       "      <td>JUPILER PILS</td>\n",
       "      <td>BOTTLE</td>\n",
       "      <td>15.27</td>\n",
       "      <td>Namur</td>\n",
       "      <td>0.00</td>\n",
       "      <td>0</td>\n",
       "      <td>0</td>\n",
       "      <td>1</td>\n",
       "      <td>1</td>\n",
       "    </tr>\n",
       "  </tbody>\n",
       "</table>\n",
       "</div>"
      ],
      "text/plain": [
       "   GTO_per_unit_vol        segment    sub_segment  \\\n",
       "2        258.000000      Drink Led    Party Place   \n",
       "3        294.166667      Drink Led    Party Place   \n",
       "4        254.280000      Drink Led    Party Place   \n",
       "5        347.000000  Institutional  Institutional   \n",
       "6        294.166667  Institutional  Institutional   \n",
       "\n",
       "                              Product_Set    Brand     Sub_Brand Pack_Type  \\\n",
       "2            OW_BULK_JUPILER_JUPILER PILS  JUPILER  JUPILER PILS      BULK   \n",
       "3  RETURNABLE_BOTTLE_JUPILER_JUPILER PILS  JUPILER  JUPILER PILS    BOTTLE   \n",
       "4     RETURNABLE_KEG_JUPILER_JUPILER PILS  JUPILER  JUPILER PILS       KEG   \n",
       "5   RETURNABLE_BOTTLE_JUPILER_JUPILER 0,0  JUPILER   JUPILER 0,0    BOTTLE   \n",
       "6  RETURNABLE_BOTTLE_JUPILER_JUPILER PILS  JUPILER  JUPILER PILS    BOTTLE   \n",
       "\n",
       "       Tax province  Discount_Total  Premium  Tier 1  Tier 2  RETURNABLE  \n",
       "2  3577.69  Antwerp        14511.46        0       1       0           0  \n",
       "3   519.41  Antwerp         1605.19        0       1       0           1  \n",
       "4   288.63  Antwerp          718.32        0       1       0           1  \n",
       "5     1.55    Namur            0.00        0       0       1           1  \n",
       "6    15.27    Namur            0.00        0       0       1           1  "
      ]
     },
     "execution_count": 52,
     "metadata": {},
     "output_type": "execute_result"
    }
   ],
   "source": [
    "data_diff_noneg.head()"
   ]
  }
 ],
 "metadata": {
  "kernelspec": {
   "display_name": "Python 3",
   "language": "python",
   "name": "python3"
  },
  "language_info": {
   "codemirror_mode": {
    "name": "ipython",
    "version": 3
   },
   "file_extension": ".py",
   "mimetype": "text/x-python",
   "name": "python",
   "nbconvert_exporter": "python",
   "pygments_lexer": "ipython3",
   "version": "3.8.5"
  }
 },
 "nbformat": 4,
 "nbformat_minor": 4
}
